{
 "cells": [
  {
   "cell_type": "code",
   "execution_count": 1,
   "id": "a124bd8e",
   "metadata": {},
   "outputs": [
    {
     "name": "stdout",
     "output_type": "stream",
     "text": [
      "Populating the interactive namespace from numpy and matplotlib\n"
     ]
    }
   ],
   "source": [
    "import numpy as np\n",
    "import pandas as pd\n",
    "import matplotlib.pyplot as plt\n",
    "import seaborn as sns\n",
    "%pylab inline\n",
    "idols = pd.read_csv('kpop_idols.csv')\n",
    "girl_groups = pd.read_csv('kpop_idols_girl_groups.csv')\n",
    "boy_groups = pd.read_csv(\"kpop_idols_boy_groups.csv\")\n",
    "music_videos = pd.read_csv('kpop_music_videos.csv')"
   ]
  },
  {
   "cell_type": "code",
   "execution_count": 2,
   "id": "7b5cfaa6",
   "metadata": {
    "scrolled": true
   },
   "outputs": [],
   "source": [
    "girl_groups.insert(4,\"gender\",\"female\")\n",
    "df_girl_groups = girl_groups.copy()"
   ]
  },
  {
   "cell_type": "code",
   "execution_count": 3,
   "id": "b31d6643",
   "metadata": {},
   "outputs": [],
   "source": [
    "boy_groups.insert(4,\"gender\",\"male\")\n",
    "df_boy_groups = boy_groups.copy()"
   ]
  },
  {
   "cell_type": "code",
   "execution_count": 4,
   "id": "066dca8c",
   "metadata": {},
   "outputs": [
    {
     "data": {
      "text/html": [
       "<div>\n",
       "<style scoped>\n",
       "    .dataframe tbody tr th:only-of-type {\n",
       "        vertical-align: middle;\n",
       "    }\n",
       "\n",
       "    .dataframe tbody tr th {\n",
       "        vertical-align: top;\n",
       "    }\n",
       "\n",
       "    .dataframe thead th {\n",
       "        text-align: right;\n",
       "    }\n",
       "</style>\n",
       "<table border=\"1\" class=\"dataframe\">\n",
       "  <thead>\n",
       "    <tr style=\"text-align: right;\">\n",
       "      <th></th>\n",
       "      <th>Name</th>\n",
       "      <th>Short</th>\n",
       "      <th>Korean Name</th>\n",
       "      <th>Debut</th>\n",
       "      <th>gender</th>\n",
       "      <th>Company</th>\n",
       "      <th>Members</th>\n",
       "      <th>Orig. Memb.</th>\n",
       "      <th>Fanclub Name</th>\n",
       "      <th>Active</th>\n",
       "    </tr>\n",
       "  </thead>\n",
       "  <tbody>\n",
       "    <tr>\n",
       "      <th>0</th>\n",
       "      <td>(G)I-DLE</td>\n",
       "      <td>NaN</td>\n",
       "      <td>(여자)아이들</td>\n",
       "      <td>2018-05-02</td>\n",
       "      <td>female</td>\n",
       "      <td>Cube</td>\n",
       "      <td>6</td>\n",
       "      <td>6</td>\n",
       "      <td>NaN</td>\n",
       "      <td>Yes</td>\n",
       "    </tr>\n",
       "    <tr>\n",
       "      <th>1</th>\n",
       "      <td>15&amp;</td>\n",
       "      <td>NaN</td>\n",
       "      <td>피프틴앤드</td>\n",
       "      <td>2012-10-05</td>\n",
       "      <td>female</td>\n",
       "      <td>JYP</td>\n",
       "      <td>2</td>\n",
       "      <td>2</td>\n",
       "      <td>NaN</td>\n",
       "      <td>No</td>\n",
       "    </tr>\n",
       "    <tr>\n",
       "      <th>2</th>\n",
       "      <td>2EYES</td>\n",
       "      <td>NaN</td>\n",
       "      <td>투아이즈</td>\n",
       "      <td>2013-07-20</td>\n",
       "      <td>female</td>\n",
       "      <td>SidusHQ</td>\n",
       "      <td>4</td>\n",
       "      <td>5</td>\n",
       "      <td>NaN</td>\n",
       "      <td>No</td>\n",
       "    </tr>\n",
       "    <tr>\n",
       "      <th>3</th>\n",
       "      <td>2NE1</td>\n",
       "      <td>NaN</td>\n",
       "      <td>투애니원</td>\n",
       "      <td>2009-05-06</td>\n",
       "      <td>female</td>\n",
       "      <td>YG</td>\n",
       "      <td>4</td>\n",
       "      <td>4</td>\n",
       "      <td>Blackjack</td>\n",
       "      <td>No</td>\n",
       "    </tr>\n",
       "    <tr>\n",
       "      <th>4</th>\n",
       "      <td>3YE</td>\n",
       "      <td>NaN</td>\n",
       "      <td>써드아이</td>\n",
       "      <td>2019-05-21</td>\n",
       "      <td>female</td>\n",
       "      <td>GH</td>\n",
       "      <td>3</td>\n",
       "      <td>3</td>\n",
       "      <td>NaN</td>\n",
       "      <td>Yes</td>\n",
       "    </tr>\n",
       "    <tr>\n",
       "      <th>...</th>\n",
       "      <td>...</td>\n",
       "      <td>...</td>\n",
       "      <td>...</td>\n",
       "      <td>...</td>\n",
       "      <td>...</td>\n",
       "      <td>...</td>\n",
       "      <td>...</td>\n",
       "      <td>...</td>\n",
       "      <td>...</td>\n",
       "      <td>...</td>\n",
       "    </tr>\n",
       "    <tr>\n",
       "      <th>142</th>\n",
       "      <td>VROMANCE</td>\n",
       "      <td>NaN</td>\n",
       "      <td>브로맨스</td>\n",
       "      <td>2016-06-12</td>\n",
       "      <td>male</td>\n",
       "      <td>RBW</td>\n",
       "      <td>4</td>\n",
       "      <td>4</td>\n",
       "      <td>NaN</td>\n",
       "      <td>Yes</td>\n",
       "    </tr>\n",
       "    <tr>\n",
       "      <th>143</th>\n",
       "      <td>Wanna One</td>\n",
       "      <td>NaN</td>\n",
       "      <td>워너원</td>\n",
       "      <td>2017-08-07</td>\n",
       "      <td>male</td>\n",
       "      <td>YMC</td>\n",
       "      <td>11</td>\n",
       "      <td>11</td>\n",
       "      <td>Wannable</td>\n",
       "      <td>No</td>\n",
       "    </tr>\n",
       "    <tr>\n",
       "      <th>144</th>\n",
       "      <td>We In The Zone</td>\n",
       "      <td>NaN</td>\n",
       "      <td>위인더존</td>\n",
       "      <td>2019-05-27</td>\n",
       "      <td>male</td>\n",
       "      <td>Choon</td>\n",
       "      <td>5</td>\n",
       "      <td>5</td>\n",
       "      <td>NaN</td>\n",
       "      <td>Yes</td>\n",
       "    </tr>\n",
       "    <tr>\n",
       "      <th>145</th>\n",
       "      <td>WINNER</td>\n",
       "      <td>NaN</td>\n",
       "      <td>위너</td>\n",
       "      <td>2014-08-12</td>\n",
       "      <td>male</td>\n",
       "      <td>YG</td>\n",
       "      <td>4</td>\n",
       "      <td>5</td>\n",
       "      <td>Ace</td>\n",
       "      <td>Yes</td>\n",
       "    </tr>\n",
       "    <tr>\n",
       "      <th>146</th>\n",
       "      <td>ZE:A</td>\n",
       "      <td>NaN</td>\n",
       "      <td>제국의 아이들</td>\n",
       "      <td>2010-01-07</td>\n",
       "      <td>male</td>\n",
       "      <td>Star Empire</td>\n",
       "      <td>9</td>\n",
       "      <td>9</td>\n",
       "      <td>ZE:A Style</td>\n",
       "      <td>Hiatus</td>\n",
       "    </tr>\n",
       "  </tbody>\n",
       "</table>\n",
       "<p>299 rows × 10 columns</p>\n",
       "</div>"
      ],
      "text/plain": [
       "               Name Short Korean Name       Debut  gender      Company  \\\n",
       "0          (G)I-DLE   NaN     (여자)아이들  2018-05-02  female         Cube   \n",
       "1               15&   NaN       피프틴앤드  2012-10-05  female          JYP   \n",
       "2             2EYES   NaN        투아이즈  2013-07-20  female      SidusHQ   \n",
       "3              2NE1   NaN        투애니원  2009-05-06  female           YG   \n",
       "4               3YE   NaN        써드아이  2019-05-21  female           GH   \n",
       "..              ...   ...         ...         ...     ...          ...   \n",
       "142        VROMANCE   NaN        브로맨스  2016-06-12    male          RBW   \n",
       "143       Wanna One   NaN         워너원  2017-08-07    male          YMC   \n",
       "144  We In The Zone   NaN        위인더존  2019-05-27    male        Choon   \n",
       "145          WINNER   NaN          위너  2014-08-12    male           YG   \n",
       "146            ZE:A   NaN     제국의 아이들  2010-01-07    male  Star Empire   \n",
       "\n",
       "     Members  Orig. Memb. Fanclub Name  Active  \n",
       "0          6            6          NaN     Yes  \n",
       "1          2            2          NaN      No  \n",
       "2          4            5          NaN      No  \n",
       "3          4            4    Blackjack      No  \n",
       "4          3            3          NaN     Yes  \n",
       "..       ...          ...          ...     ...  \n",
       "142        4            4          NaN     Yes  \n",
       "143       11           11     Wannable      No  \n",
       "144        5            5          NaN     Yes  \n",
       "145        4            5          Ace     Yes  \n",
       "146        9            9   ZE:A Style  Hiatus  \n",
       "\n",
       "[299 rows x 10 columns]"
      ]
     },
     "execution_count": 4,
     "metadata": {},
     "output_type": "execute_result"
    }
   ],
   "source": [
    "all_groups = df_girl_groups.append(df_boy_groups)\n",
    "all_groups"
   ]
  },
  {
   "cell_type": "markdown",
   "id": "3b4d31bd",
   "metadata": {},
   "source": [
    "## K-Pop Idols"
   ]
  },
  {
   "cell_type": "code",
   "execution_count": 5,
   "id": "407f3a01",
   "metadata": {},
   "outputs": [
    {
     "name": "stdout",
     "output_type": "stream",
     "text": [
      "<class 'pandas.core.frame.DataFrame'>\n",
      "RangeIndex: 1310 entries, 0 to 1309\n",
      "Data columns (total 10 columns):\n",
      " #   Column         Non-Null Count  Dtype \n",
      "---  ------         --------------  ----- \n",
      " 0   Stage Name     1310 non-null   object\n",
      " 1   Full Name      1304 non-null   object\n",
      " 2   Korean Name    1304 non-null   object\n",
      " 3   K. Stage Name  1309 non-null   object\n",
      " 4   Date of Birth  1310 non-null   object\n",
      " 5   Group          1219 non-null   object\n",
      " 6   Country        1310 non-null   object\n",
      " 7   Birthplace     689 non-null    object\n",
      " 8   Other Group    122 non-null    object\n",
      " 9   Gender         1310 non-null   object\n",
      "dtypes: object(10)\n",
      "memory usage: 102.5+ KB\n"
     ]
    }
   ],
   "source": [
    "df_idols = idols.copy()\n",
    "df_idols.info()"
   ]
  },
  {
   "cell_type": "code",
   "execution_count": 6,
   "id": "0ffa7e08",
   "metadata": {},
   "outputs": [
    {
     "data": {
      "text/plain": [
       "(1310, 10)"
      ]
     },
     "execution_count": 6,
     "metadata": {},
     "output_type": "execute_result"
    }
   ],
   "source": [
    "df_idols.shape"
   ]
  },
  {
   "cell_type": "code",
   "execution_count": 7,
   "id": "e8471d7c",
   "metadata": {},
   "outputs": [
    {
     "data": {
      "text/plain": [
       "Index(['Stage Name', 'Full Name', 'Korean Name', 'K. Stage Name',\n",
       "       'Date of Birth', 'Group', 'Country', 'Birthplace', 'Other Group',\n",
       "       'Gender'],\n",
       "      dtype='object')"
      ]
     },
     "execution_count": 7,
     "metadata": {},
     "output_type": "execute_result"
    }
   ],
   "source": [
    "df_idols.columns"
   ]
  },
  {
   "cell_type": "code",
   "execution_count": 8,
   "id": "4e3fe7ca",
   "metadata": {},
   "outputs": [],
   "source": [
    "df_idols = df_idols.rename(columns={\n",
    "    \"Stage Name\":\"stage_name\",\n",
    "    \"Full Name\" :\"full_name\",\n",
    "    \"Korean Name\":\"korean_name\",\n",
    "    \"K. Stage Name\":\"korean_stage_name\",\n",
    "    \"Date of Birth\":\"birthday\",\n",
    "    \"Other Group\":\"other_group\",\n",
    "    \"Group\":\"group\",\n",
    "    \"Country\":\"country\",\n",
    "    \"Birthplace\":\"birthplace\",\n",
    "    \"Gender\":\"gender\"\n",
    "})"
   ]
  },
  {
   "cell_type": "code",
   "execution_count": 9,
   "id": "1a558676",
   "metadata": {},
   "outputs": [
    {
     "data": {
      "text/html": [
       "<div>\n",
       "<style scoped>\n",
       "    .dataframe tbody tr th:only-of-type {\n",
       "        vertical-align: middle;\n",
       "    }\n",
       "\n",
       "    .dataframe tbody tr th {\n",
       "        vertical-align: top;\n",
       "    }\n",
       "\n",
       "    .dataframe thead th {\n",
       "        text-align: right;\n",
       "    }\n",
       "</style>\n",
       "<table border=\"1\" class=\"dataframe\">\n",
       "  <thead>\n",
       "    <tr style=\"text-align: right;\">\n",
       "      <th></th>\n",
       "      <th>stage_name</th>\n",
       "      <th>full_name</th>\n",
       "      <th>korean_name</th>\n",
       "      <th>korean_stage_name</th>\n",
       "      <th>birthday</th>\n",
       "      <th>group</th>\n",
       "      <th>country</th>\n",
       "      <th>birthplace</th>\n",
       "      <th>other_group</th>\n",
       "      <th>gender</th>\n",
       "    </tr>\n",
       "  </thead>\n",
       "  <tbody>\n",
       "    <tr>\n",
       "      <th>0</th>\n",
       "      <td>A.M</td>\n",
       "      <td>Seong Hyunwoo</td>\n",
       "      <td>성현우</td>\n",
       "      <td>에이엠</td>\n",
       "      <td>1996-12-31</td>\n",
       "      <td>Limitless</td>\n",
       "      <td>South Korea</td>\n",
       "      <td>NaN</td>\n",
       "      <td>NaN</td>\n",
       "      <td>M</td>\n",
       "    </tr>\n",
       "    <tr>\n",
       "      <th>1</th>\n",
       "      <td>Ace</td>\n",
       "      <td>Jang Wooyoung</td>\n",
       "      <td>장우영</td>\n",
       "      <td>에이스</td>\n",
       "      <td>1992-08-28</td>\n",
       "      <td>VAV</td>\n",
       "      <td>South Korea</td>\n",
       "      <td>NaN</td>\n",
       "      <td>NaN</td>\n",
       "      <td>M</td>\n",
       "    </tr>\n",
       "    <tr>\n",
       "      <th>2</th>\n",
       "      <td>Aeji</td>\n",
       "      <td>Kwon Aeji</td>\n",
       "      <td>권애지</td>\n",
       "      <td>애지</td>\n",
       "      <td>1999-10-25</td>\n",
       "      <td>Hashtag</td>\n",
       "      <td>South Korea</td>\n",
       "      <td>Daegu</td>\n",
       "      <td>NaN</td>\n",
       "      <td>F</td>\n",
       "    </tr>\n",
       "    <tr>\n",
       "      <th>3</th>\n",
       "      <td>AhIn</td>\n",
       "      <td>Lee Ahin</td>\n",
       "      <td>이아인</td>\n",
       "      <td>아인</td>\n",
       "      <td>1999-09-27</td>\n",
       "      <td>MOMOLAND</td>\n",
       "      <td>South Korea</td>\n",
       "      <td>Wonju</td>\n",
       "      <td>NaN</td>\n",
       "      <td>F</td>\n",
       "    </tr>\n",
       "    <tr>\n",
       "      <th>4</th>\n",
       "      <td>Ahra</td>\n",
       "      <td>Go Ahra</td>\n",
       "      <td>고아라</td>\n",
       "      <td>아라</td>\n",
       "      <td>2001-02-21</td>\n",
       "      <td>Favorite</td>\n",
       "      <td>South Korea</td>\n",
       "      <td>Yeosu</td>\n",
       "      <td>NaN</td>\n",
       "      <td>F</td>\n",
       "    </tr>\n",
       "  </tbody>\n",
       "</table>\n",
       "</div>"
      ],
      "text/plain": [
       "  stage_name      full_name korean_name korean_stage_name    birthday  \\\n",
       "0        A.M  Seong Hyunwoo         성현우               에이엠  1996-12-31   \n",
       "1        Ace  Jang Wooyoung         장우영               에이스  1992-08-28   \n",
       "2       Aeji      Kwon Aeji         권애지                애지  1999-10-25   \n",
       "3       AhIn       Lee Ahin         이아인                아인  1999-09-27   \n",
       "4       Ahra        Go Ahra         고아라                아라  2001-02-21   \n",
       "\n",
       "       group      country birthplace other_group gender  \n",
       "0  Limitless  South Korea        NaN         NaN      M  \n",
       "1        VAV  South Korea        NaN         NaN      M  \n",
       "2    Hashtag  South Korea      Daegu         NaN      F  \n",
       "3   MOMOLAND  South Korea      Wonju         NaN      F  \n",
       "4   Favorite  South Korea      Yeosu         NaN      F  "
      ]
     },
     "execution_count": 9,
     "metadata": {},
     "output_type": "execute_result"
    }
   ],
   "source": [
    "df_idols.head()"
   ]
  },
  {
   "cell_type": "code",
   "execution_count": 10,
   "id": "faa742bb",
   "metadata": {},
   "outputs": [
    {
     "data": {
      "text/plain": [
       "0       1996\n",
       "1       1992\n",
       "2       1999\n",
       "3       1999\n",
       "4       2001\n",
       "        ... \n",
       "1305    1997\n",
       "1306    1994\n",
       "1307    2005\n",
       "1308    1996\n",
       "1309    1994\n",
       "Name: birthday, Length: 1310, dtype: object"
      ]
     },
     "execution_count": 10,
     "metadata": {},
     "output_type": "execute_result"
    }
   ],
   "source": [
    "df_idols[\"birthday\"] = df_idols[\"birthday\"].apply(lambda x: x.split('-')[0])\n",
    "df_idols[\"birthday\"]"
   ]
  },
  {
   "cell_type": "code",
   "execution_count": 11,
   "id": "e3fc474d",
   "metadata": {},
   "outputs": [
    {
     "data": {
      "text/plain": [
       "birthday\n",
       "1977      1\n",
       "1980      1\n",
       "1981      3\n",
       "1982      1\n",
       "1983      3\n",
       "1984      4\n",
       "1985      4\n",
       "1986     13\n",
       "1987     16\n",
       "1988     27\n",
       "1989     38\n",
       "1990     59\n",
       "1991     74\n",
       "1992     74\n",
       "1993     83\n",
       "1994    105\n",
       "1995    111\n",
       "1996    116\n",
       "1997    106\n",
       "1998     97\n",
       "1999    116\n",
       "2000    111\n",
       "2001     65\n",
       "2002     40\n",
       "2003     24\n",
       "2004     14\n",
       "2005      4\n",
       "Name: stage_name, dtype: int64"
      ]
     },
     "execution_count": 11,
     "metadata": {},
     "output_type": "execute_result"
    }
   ],
   "source": [
    "birthdays = df_idols.groupby(\"birthday\")[\"stage_name\"].count()\n",
    "birthdays"
   ]
  },
  {
   "cell_type": "code",
   "execution_count": 12,
   "id": "098aa619",
   "metadata": {},
   "outputs": [
    {
     "data": {
      "text/html": [
       "<div>\n",
       "<style scoped>\n",
       "    .dataframe tbody tr th:only-of-type {\n",
       "        vertical-align: middle;\n",
       "    }\n",
       "\n",
       "    .dataframe tbody tr th {\n",
       "        vertical-align: top;\n",
       "    }\n",
       "\n",
       "    .dataframe thead th {\n",
       "        text-align: right;\n",
       "    }\n",
       "</style>\n",
       "<table border=\"1\" class=\"dataframe\">\n",
       "  <thead>\n",
       "    <tr style=\"text-align: right;\">\n",
       "      <th></th>\n",
       "      <th>stage_name</th>\n",
       "      <th>full_name</th>\n",
       "      <th>korean_name</th>\n",
       "      <th>korean_stage_name</th>\n",
       "      <th>birthday</th>\n",
       "      <th>group</th>\n",
       "      <th>country</th>\n",
       "      <th>birthplace</th>\n",
       "      <th>other_group</th>\n",
       "      <th>gender</th>\n",
       "    </tr>\n",
       "  </thead>\n",
       "  <tbody>\n",
       "    <tr>\n",
       "      <th>0</th>\n",
       "      <td>A.M</td>\n",
       "      <td>Seong Hyunwoo</td>\n",
       "      <td>성현우</td>\n",
       "      <td>에이엠</td>\n",
       "      <td>1996</td>\n",
       "      <td>Limitless</td>\n",
       "      <td>South Korea</td>\n",
       "      <td>NaN</td>\n",
       "      <td>NaN</td>\n",
       "      <td>M</td>\n",
       "    </tr>\n",
       "    <tr>\n",
       "      <th>1</th>\n",
       "      <td>Ace</td>\n",
       "      <td>Jang Wooyoung</td>\n",
       "      <td>장우영</td>\n",
       "      <td>에이스</td>\n",
       "      <td>1992</td>\n",
       "      <td>VAV</td>\n",
       "      <td>South Korea</td>\n",
       "      <td>NaN</td>\n",
       "      <td>NaN</td>\n",
       "      <td>M</td>\n",
       "    </tr>\n",
       "    <tr>\n",
       "      <th>2</th>\n",
       "      <td>Aeji</td>\n",
       "      <td>Kwon Aeji</td>\n",
       "      <td>권애지</td>\n",
       "      <td>애지</td>\n",
       "      <td>1999</td>\n",
       "      <td>Hashtag</td>\n",
       "      <td>South Korea</td>\n",
       "      <td>Daegu</td>\n",
       "      <td>NaN</td>\n",
       "      <td>F</td>\n",
       "    </tr>\n",
       "    <tr>\n",
       "      <th>3</th>\n",
       "      <td>AhIn</td>\n",
       "      <td>Lee Ahin</td>\n",
       "      <td>이아인</td>\n",
       "      <td>아인</td>\n",
       "      <td>1999</td>\n",
       "      <td>MOMOLAND</td>\n",
       "      <td>South Korea</td>\n",
       "      <td>Wonju</td>\n",
       "      <td>NaN</td>\n",
       "      <td>F</td>\n",
       "    </tr>\n",
       "    <tr>\n",
       "      <th>4</th>\n",
       "      <td>Ahra</td>\n",
       "      <td>Go Ahra</td>\n",
       "      <td>고아라</td>\n",
       "      <td>아라</td>\n",
       "      <td>2001</td>\n",
       "      <td>Favorite</td>\n",
       "      <td>South Korea</td>\n",
       "      <td>Yeosu</td>\n",
       "      <td>NaN</td>\n",
       "      <td>F</td>\n",
       "    </tr>\n",
       "  </tbody>\n",
       "</table>\n",
       "</div>"
      ],
      "text/plain": [
       "  stage_name      full_name korean_name korean_stage_name birthday      group  \\\n",
       "0        A.M  Seong Hyunwoo         성현우               에이엠     1996  Limitless   \n",
       "1        Ace  Jang Wooyoung         장우영               에이스     1992        VAV   \n",
       "2       Aeji      Kwon Aeji         권애지                애지     1999    Hashtag   \n",
       "3       AhIn       Lee Ahin         이아인                아인     1999   MOMOLAND   \n",
       "4       Ahra        Go Ahra         고아라                아라     2001   Favorite   \n",
       "\n",
       "       country birthplace other_group gender  \n",
       "0  South Korea        NaN         NaN      M  \n",
       "1  South Korea        NaN         NaN      M  \n",
       "2  South Korea      Daegu         NaN      F  \n",
       "3  South Korea      Wonju         NaN      F  \n",
       "4  South Korea      Yeosu         NaN      F  "
      ]
     },
     "execution_count": 12,
     "metadata": {},
     "output_type": "execute_result"
    }
   ],
   "source": [
    "df_idols.head()"
   ]
  },
  {
   "cell_type": "code",
   "execution_count": 13,
   "id": "0ecc3a98",
   "metadata": {},
   "outputs": [
    {
     "data": {
      "text/plain": [
       "('1977', '2005')"
      ]
     },
     "execution_count": 13,
     "metadata": {},
     "output_type": "execute_result"
    }
   ],
   "source": [
    "df_idols.birthday.min(), df_idols.birthday.max()"
   ]
  },
  {
   "cell_type": "code",
   "execution_count": 14,
   "id": "3c6ffc30",
   "metadata": {},
   "outputs": [
    {
     "data": {
      "text/plain": [
       "count     1310\n",
       "unique      27\n",
       "top       1996\n",
       "freq       116\n",
       "Name: birthday, dtype: object"
      ]
     },
     "execution_count": 14,
     "metadata": {},
     "output_type": "execute_result"
    }
   ],
   "source": [
    "df_idols[\"birthday\"].describe()"
   ]
  },
  {
   "cell_type": "code",
   "execution_count": 15,
   "id": "aeb193ee",
   "metadata": {},
   "outputs": [
    {
     "data": {
      "text/plain": [
       "stage_name              0\n",
       "full_name               6\n",
       "korean_name             6\n",
       "korean_stage_name       1\n",
       "birthday                0\n",
       "group                  91\n",
       "country                 0\n",
       "birthplace            621\n",
       "other_group          1188\n",
       "gender                  0\n",
       "dtype: int64"
      ]
     },
     "execution_count": 15,
     "metadata": {},
     "output_type": "execute_result"
    }
   ],
   "source": [
    "df_idols.isnull().sum()"
   ]
  },
  {
   "cell_type": "code",
   "execution_count": 16,
   "id": "d6b909e5",
   "metadata": {},
   "outputs": [],
   "source": [
    "df_idols[\"other_group\"].fillna(\"no_other_group\", inplace=True)"
   ]
  },
  {
   "cell_type": "code",
   "execution_count": 17,
   "id": "3f2ddd47",
   "metadata": {},
   "outputs": [
    {
     "data": {
      "text/plain": [
       "stage_name           0\n",
       "full_name            0\n",
       "korean_name          0\n",
       "korean_stage_name    0\n",
       "birthday             0\n",
       "group                0\n",
       "country              0\n",
       "birthplace           0\n",
       "other_group          0\n",
       "gender               0\n",
       "dtype: int64"
      ]
     },
     "execution_count": 17,
     "metadata": {},
     "output_type": "execute_result"
    }
   ],
   "source": [
    "df_idols[\"group\"].fillna(\"Soloist\", inplace=True)\n",
    "df_idols[\"birthplace\"].fillna(\"Unknown\", inplace=True)\n",
    "df_idols[\"korean_name\"].fillna(\"Unknown\", inplace=True)\n",
    "df_idols[\"full_name\"].fillna(\"Unknown\", inplace=True)\n",
    "df_idols[\"korean_stage_name\"].fillna(\"Unknown\", inplace=True)\n",
    "df_idols.isnull().sum()"
   ]
  },
  {
   "cell_type": "code",
   "execution_count": 18,
   "id": "9f7d29cd",
   "metadata": {},
   "outputs": [
    {
     "data": {
      "text/plain": [
       "209"
      ]
     },
     "execution_count": 18,
     "metadata": {},
     "output_type": "execute_result"
    }
   ],
   "source": [
    "df_idols[\"group\"].value_counts().count()"
   ]
  },
  {
   "cell_type": "code",
   "execution_count": 19,
   "id": "eb5f71c1",
   "metadata": {},
   "outputs": [
    {
     "data": {
      "text/plain": [
       "136"
      ]
     },
     "execution_count": 19,
     "metadata": {},
     "output_type": "execute_result"
    }
   ],
   "source": [
    "df_idols[\"birthplace\"].value_counts().count()"
   ]
  },
  {
   "cell_type": "code",
   "execution_count": 20,
   "id": "3bece1a7",
   "metadata": {},
   "outputs": [
    {
     "data": {
      "text/plain": [
       "South Korea    1204\n",
       "China            39\n",
       "Japan            27\n",
       "USA              14\n",
       "Thailand          6\n",
       "Taiwan            6\n",
       "Canada            5\n",
       "Hong Kong         4\n",
       "Indonesia         2\n",
       "Australia         1\n",
       "Malaysia          1\n",
       "Philippines       1\n",
       "Name: country, dtype: int64"
      ]
     },
     "execution_count": 20,
     "metadata": {},
     "output_type": "execute_result"
    }
   ],
   "source": [
    "df_idols[\"country\"].value_counts()"
   ]
  },
  {
   "cell_type": "code",
   "execution_count": 21,
   "id": "0487648b",
   "metadata": {},
   "outputs": [
    {
     "data": {
      "text/plain": [
       "no_other_group                       1188\n",
       "Super Junior-M                          6\n",
       "Loona 1/3                               5\n",
       "NCT Dream                               5\n",
       "SPICA-S                                 4\n",
       "NU'EST W                                4\n",
       "9MUSES A                                4\n",
       "UNI.T                                   4\n",
       "Loona yyxy                              4\n",
       "NCT U, NCT 127                          3\n",
       "Orange Caramel                          3\n",
       "Infinite F                              3\n",
       "SuperM                                  3\n",
       "NCT 127                                 3\n",
       "Pristin V                               3\n",
       "Big Byung                               3\n",
       "3RACHA                                  3\n",
       "Loona Odd Eye Circle                    3\n",
       "FANATICS FLAVOR                         3\n",
       "Bastarz                                 3\n",
       "Rainbow Blaxx, Rainbow Pixie            2\n",
       "TTS                                     2\n",
       "WJMK                                    2\n",
       "VIXX LR                                 2\n",
       "I.O.I, Pristin V                        2\n",
       "JBJ                                     2\n",
       "Toheart                                 2\n",
       "I.O.I, WJMK                             2\n",
       "AOA BLACK                               2\n",
       "Rainbow Blaxx                           2\n",
       "Infinite H                              2\n",
       "2YOON                                   2\n",
       "Gugudan Oguogu                          2\n",
       "EXO-CBX                                 2\n",
       "MXM                                     2\n",
       "I.O.I                                   2\n",
       "GD&TOP                                  2\n",
       "NU'EST                                  1\n",
       "NCT U,SuperM                            1\n",
       "NCT U, NCT 127,SuperM                   1\n",
       "TTS, Oh!GG                              1\n",
       "HOTSHOT                                 1\n",
       "L.U.B                                   1\n",
       "UNIQ                                    1\n",
       "VICTON                                  1\n",
       "Troublemaker                            1\n",
       "NCT U, NCT 127, NCT Dream, SuperM       1\n",
       "NCT 127, NCT Dream                      1\n",
       "EXO-CBX, SuperM                         1\n",
       "IM                                      1\n",
       "C.I.V.A                                 1\n",
       "UNB                                     1\n",
       "BinChaenHyunSeuS                        1\n",
       "C.I.V.A, I.B.I                          1\n",
       "Rainbow Pixie                           1\n",
       "UP10TION                                1\n",
       "Name: other_group, dtype: int64"
      ]
     },
     "execution_count": 21,
     "metadata": {},
     "output_type": "execute_result"
    }
   ],
   "source": [
    "df_idols[\"other_group\"].value_counts()"
   ]
  },
  {
   "cell_type": "code",
   "execution_count": 22,
   "id": "e1057109",
   "metadata": {},
   "outputs": [
    {
     "data": {
      "text/plain": [
       "M    676\n",
       "F    634\n",
       "Name: gender, dtype: int64"
      ]
     },
     "execution_count": 22,
     "metadata": {},
     "output_type": "execute_result"
    }
   ],
   "source": [
    "df_idols[\"gender\"].value_counts()"
   ]
  },
  {
   "cell_type": "code",
   "execution_count": 23,
   "id": "c3457fd1",
   "metadata": {},
   "outputs": [
    {
     "data": {
      "image/png": "[encoded data removed]",
      "text/plain": [
       "<Figure size 432x288 with 1 Axes>"
      ]
     },
     "metadata": {
      "needs_background": "light"
     },
     "output_type": "display_data"
    }
   ],
   "source": [
    "birthdays.plot.barh().set_title(\"Year of Birth Frequences\");"
   ]
  },
  {
   "cell_type": "code",
   "execution_count": 24,
   "id": "81be5089",
   "metadata": {},
   "outputs": [
    {
     "data": {
      "image/png": "[encoded data removed]",
      "text/plain": [
       "<Figure size 432x288 with 1 Axes>"
      ]
     },
     "metadata": {
      "needs_background": "light"
     },
     "output_type": "display_data"
    }
   ],
   "source": [
    "df_idols[\"country\"].value_counts().plot.barh().set_title(\"Country Frequences\");"
   ]
  },
  {
   "cell_type": "code",
   "execution_count": 25,
   "id": "46dea05f",
   "metadata": {
    "scrolled": true
   },
   "outputs": [
    {
     "data": {
      "image/png": "[encoded data removed]",
      "text/plain": [
       "<Figure size 432x288 with 1 Axes>"
      ]
     },
     "metadata": {
      "needs_background": "light"
     },
     "output_type": "display_data"
    }
   ],
   "source": [
    "sns.barplot(x = \"gender\", y = df_idols.gender.index, data = df_idols);"
   ]
  },
  {
   "cell_type": "markdown",
   "id": "a7002e66",
   "metadata": {},
   "source": [
    "## K-Pop Girl Groups"
   ]
  },
  {
   "cell_type": "code",
   "execution_count": 26,
   "id": "33647b26",
   "metadata": {
    "scrolled": true
   },
   "outputs": [
    {
     "data": {
      "text/html": [
       "<div>\n",
       "<style scoped>\n",
       "    .dataframe tbody tr th:only-of-type {\n",
       "        vertical-align: middle;\n",
       "    }\n",
       "\n",
       "    .dataframe tbody tr th {\n",
       "        vertical-align: top;\n",
       "    }\n",
       "\n",
       "    .dataframe thead th {\n",
       "        text-align: right;\n",
       "    }\n",
       "</style>\n",
       "<table border=\"1\" class=\"dataframe\">\n",
       "  <thead>\n",
       "    <tr style=\"text-align: right;\">\n",
       "      <th></th>\n",
       "      <th>Name</th>\n",
       "      <th>Short</th>\n",
       "      <th>Korean Name</th>\n",
       "      <th>Debut</th>\n",
       "      <th>gender</th>\n",
       "      <th>Company</th>\n",
       "      <th>Members</th>\n",
       "      <th>Orig. Memb.</th>\n",
       "      <th>Fanclub Name</th>\n",
       "      <th>Active</th>\n",
       "    </tr>\n",
       "  </thead>\n",
       "  <tbody>\n",
       "    <tr>\n",
       "      <th>0</th>\n",
       "      <td>(G)I-DLE</td>\n",
       "      <td>NaN</td>\n",
       "      <td>(여자)아이들</td>\n",
       "      <td>2018-05-02</td>\n",
       "      <td>female</td>\n",
       "      <td>Cube</td>\n",
       "      <td>6</td>\n",
       "      <td>6</td>\n",
       "      <td>NaN</td>\n",
       "      <td>Yes</td>\n",
       "    </tr>\n",
       "    <tr>\n",
       "      <th>1</th>\n",
       "      <td>15&amp;</td>\n",
       "      <td>NaN</td>\n",
       "      <td>피프틴앤드</td>\n",
       "      <td>2012-10-05</td>\n",
       "      <td>female</td>\n",
       "      <td>JYP</td>\n",
       "      <td>2</td>\n",
       "      <td>2</td>\n",
       "      <td>NaN</td>\n",
       "      <td>No</td>\n",
       "    </tr>\n",
       "    <tr>\n",
       "      <th>2</th>\n",
       "      <td>2EYES</td>\n",
       "      <td>NaN</td>\n",
       "      <td>투아이즈</td>\n",
       "      <td>2013-07-20</td>\n",
       "      <td>female</td>\n",
       "      <td>SidusHQ</td>\n",
       "      <td>4</td>\n",
       "      <td>5</td>\n",
       "      <td>NaN</td>\n",
       "      <td>No</td>\n",
       "    </tr>\n",
       "    <tr>\n",
       "      <th>3</th>\n",
       "      <td>2NE1</td>\n",
       "      <td>NaN</td>\n",
       "      <td>투애니원</td>\n",
       "      <td>2009-05-06</td>\n",
       "      <td>female</td>\n",
       "      <td>YG</td>\n",
       "      <td>4</td>\n",
       "      <td>4</td>\n",
       "      <td>Blackjack</td>\n",
       "      <td>No</td>\n",
       "    </tr>\n",
       "    <tr>\n",
       "      <th>4</th>\n",
       "      <td>3YE</td>\n",
       "      <td>NaN</td>\n",
       "      <td>써드아이</td>\n",
       "      <td>2019-05-21</td>\n",
       "      <td>female</td>\n",
       "      <td>GH</td>\n",
       "      <td>3</td>\n",
       "      <td>3</td>\n",
       "      <td>NaN</td>\n",
       "      <td>Yes</td>\n",
       "    </tr>\n",
       "  </tbody>\n",
       "</table>\n",
       "</div>"
      ],
      "text/plain": [
       "       Name Short Korean Name       Debut  gender  Company  Members  \\\n",
       "0  (G)I-DLE   NaN     (여자)아이들  2018-05-02  female     Cube        6   \n",
       "1       15&   NaN       피프틴앤드  2012-10-05  female      JYP        2   \n",
       "2     2EYES   NaN        투아이즈  2013-07-20  female  SidusHQ        4   \n",
       "3      2NE1   NaN        투애니원  2009-05-06  female       YG        4   \n",
       "4       3YE   NaN        써드아이  2019-05-21  female       GH        3   \n",
       "\n",
       "   Orig. Memb. Fanclub Name Active  \n",
       "0            6          NaN    Yes  \n",
       "1            2          NaN     No  \n",
       "2            5          NaN     No  \n",
       "3            4    Blackjack     No  \n",
       "4            3          NaN    Yes  "
      ]
     },
     "execution_count": 26,
     "metadata": {},
     "output_type": "execute_result"
    }
   ],
   "source": [
    "all_groups.head()"
   ]
  },
  {
   "cell_type": "code",
   "execution_count": 27,
   "id": "efc353f1",
   "metadata": {},
   "outputs": [],
   "source": [
    "all_groups= all_groups.rename(columns={\n",
    "    \"Korean Name\":\"korean_name\",\n",
    "    \"Orig. Memb.\" :\"org_member\",\n",
    "    \"Fanclub Name\":\"have_fclub\",\n",
    "})"
   ]
  },
  {
   "cell_type": "code",
   "execution_count": 28,
   "id": "87a151f8",
   "metadata": {},
   "outputs": [],
   "source": [
    "all_groups.drop(\"korean_name\",axis=1, inplace=True)"
   ]
  },
  {
   "cell_type": "code",
   "execution_count": 29,
   "id": "9d094898",
   "metadata": {},
   "outputs": [],
   "source": [
    "all_groups[\"Short\"].fillna(\"no\", inplace=True)\n",
    "all_groups[\"have_fclub\"].fillna(\"no\", inplace=True)"
   ]
  },
  {
   "cell_type": "code",
   "execution_count": 30,
   "id": "05258fbf",
   "metadata": {},
   "outputs": [
    {
     "name": "stderr",
     "output_type": "stream",
     "text": [
      "C:\\Users\\HILAL-PC\\AppData\\Local\\Temp/ipykernel_17196/3286742465.py:4: SettingWithCopyWarning: \n",
      "A value is trying to be set on a copy of a slice from a DataFrame\n",
      "\n",
      "See the caveats in the documentation: https://pandas.pydata.org/pandas-docs/stable/user_guide/indexing.html#returning-a-view-versus-a-copy\n",
      "  all_groups.have_fclub[i] = \"yes\"\n",
      "C:\\Users\\HILAL-PC\\AppData\\Local\\Temp/ipykernel_17196/3286742465.py:4: SettingWithCopyWarning: \n",
      "A value is trying to be set on a copy of a slice from a DataFrame\n",
      "\n",
      "See the caveats in the documentation: https://pandas.pydata.org/pandas-docs/stable/user_guide/indexing.html#returning-a-view-versus-a-copy\n",
      "  all_groups.have_fclub[i] = \"yes\"\n",
      "C:\\Users\\HILAL-PC\\AppData\\Local\\Temp/ipykernel_17196/3286742465.py:4: SettingWithCopyWarning: \n",
      "A value is trying to be set on a copy of a slice from a DataFrame\n",
      "\n",
      "See the caveats in the documentation: https://pandas.pydata.org/pandas-docs/stable/user_guide/indexing.html#returning-a-view-versus-a-copy\n",
      "  all_groups.have_fclub[i] = \"yes\"\n",
      "C:\\Users\\HILAL-PC\\AppData\\Local\\Temp/ipykernel_17196/3286742465.py:4: SettingWithCopyWarning: \n",
      "A value is trying to be set on a copy of a slice from a DataFrame\n",
      "\n",
      "See the caveats in the documentation: https://pandas.pydata.org/pandas-docs/stable/user_guide/indexing.html#returning-a-view-versus-a-copy\n",
      "  all_groups.have_fclub[i] = \"yes\"\n",
      "C:\\Users\\HILAL-PC\\AppData\\Local\\Temp/ipykernel_17196/3286742465.py:4: SettingWithCopyWarning: \n",
      "A value is trying to be set on a copy of a slice from a DataFrame\n",
      "\n",
      "See the caveats in the documentation: https://pandas.pydata.org/pandas-docs/stable/user_guide/indexing.html#returning-a-view-versus-a-copy\n",
      "  all_groups.have_fclub[i] = \"yes\"\n",
      "C:\\Users\\HILAL-PC\\AppData\\Local\\Temp/ipykernel_17196/3286742465.py:4: SettingWithCopyWarning: \n",
      "A value is trying to be set on a copy of a slice from a DataFrame\n",
      "\n",
      "See the caveats in the documentation: https://pandas.pydata.org/pandas-docs/stable/user_guide/indexing.html#returning-a-view-versus-a-copy\n",
      "  all_groups.have_fclub[i] = \"yes\"\n",
      "C:\\Users\\HILAL-PC\\AppData\\Local\\Temp/ipykernel_17196/3286742465.py:4: SettingWithCopyWarning: \n",
      "A value is trying to be set on a copy of a slice from a DataFrame\n",
      "\n",
      "See the caveats in the documentation: https://pandas.pydata.org/pandas-docs/stable/user_guide/indexing.html#returning-a-view-versus-a-copy\n",
      "  all_groups.have_fclub[i] = \"yes\"\n",
      "C:\\Users\\HILAL-PC\\AppData\\Local\\Temp/ipykernel_17196/3286742465.py:4: SettingWithCopyWarning: \n",
      "A value is trying to be set on a copy of a slice from a DataFrame\n",
      "\n",
      "See the caveats in the documentation: https://pandas.pydata.org/pandas-docs/stable/user_guide/indexing.html#returning-a-view-versus-a-copy\n",
      "  all_groups.have_fclub[i] = \"yes\"\n",
      "C:\\Users\\HILAL-PC\\AppData\\Local\\Temp/ipykernel_17196/3286742465.py:4: SettingWithCopyWarning: \n",
      "A value is trying to be set on a copy of a slice from a DataFrame\n",
      "\n",
      "See the caveats in the documentation: https://pandas.pydata.org/pandas-docs/stable/user_guide/indexing.html#returning-a-view-versus-a-copy\n",
      "  all_groups.have_fclub[i] = \"yes\"\n",
      "C:\\Users\\HILAL-PC\\AppData\\Local\\Temp/ipykernel_17196/3286742465.py:4: SettingWithCopyWarning: \n",
      "A value is trying to be set on a copy of a slice from a DataFrame\n",
      "\n",
      "See the caveats in the documentation: https://pandas.pydata.org/pandas-docs/stable/user_guide/indexing.html#returning-a-view-versus-a-copy\n",
      "  all_groups.have_fclub[i] = \"yes\"\n",
      "C:\\Users\\HILAL-PC\\AppData\\Local\\Temp/ipykernel_17196/3286742465.py:4: SettingWithCopyWarning: \n",
      "A value is trying to be set on a copy of a slice from a DataFrame\n",
      "\n",
      "See the caveats in the documentation: https://pandas.pydata.org/pandas-docs/stable/user_guide/indexing.html#returning-a-view-versus-a-copy\n",
      "  all_groups.have_fclub[i] = \"yes\"\n",
      "C:\\Users\\HILAL-PC\\AppData\\Local\\Temp/ipykernel_17196/3286742465.py:4: SettingWithCopyWarning: \n",
      "A value is trying to be set on a copy of a slice from a DataFrame\n",
      "\n",
      "See the caveats in the documentation: https://pandas.pydata.org/pandas-docs/stable/user_guide/indexing.html#returning-a-view-versus-a-copy\n",
      "  all_groups.have_fclub[i] = \"yes\"\n",
      "C:\\Users\\HILAL-PC\\AppData\\Local\\Temp/ipykernel_17196/3286742465.py:4: SettingWithCopyWarning: \n",
      "A value is trying to be set on a copy of a slice from a DataFrame\n",
      "\n",
      "See the caveats in the documentation: https://pandas.pydata.org/pandas-docs/stable/user_guide/indexing.html#returning-a-view-versus-a-copy\n",
      "  all_groups.have_fclub[i] = \"yes\"\n",
      "C:\\Users\\HILAL-PC\\AppData\\Local\\Temp/ipykernel_17196/3286742465.py:4: SettingWithCopyWarning: \n",
      "A value is trying to be set on a copy of a slice from a DataFrame\n",
      "\n",
      "See the caveats in the documentation: https://pandas.pydata.org/pandas-docs/stable/user_guide/indexing.html#returning-a-view-versus-a-copy\n",
      "  all_groups.have_fclub[i] = \"yes\"\n",
      "C:\\Users\\HILAL-PC\\AppData\\Local\\Temp/ipykernel_17196/3286742465.py:4: SettingWithCopyWarning: \n",
      "A value is trying to be set on a copy of a slice from a DataFrame\n",
      "\n",
      "See the caveats in the documentation: https://pandas.pydata.org/pandas-docs/stable/user_guide/indexing.html#returning-a-view-versus-a-copy\n",
      "  all_groups.have_fclub[i] = \"yes\"\n",
      "C:\\Users\\HILAL-PC\\AppData\\Local\\Temp/ipykernel_17196/3286742465.py:4: SettingWithCopyWarning: \n",
      "A value is trying to be set on a copy of a slice from a DataFrame\n",
      "\n",
      "See the caveats in the documentation: https://pandas.pydata.org/pandas-docs/stable/user_guide/indexing.html#returning-a-view-versus-a-copy\n",
      "  all_groups.have_fclub[i] = \"yes\"\n",
      "C:\\Users\\HILAL-PC\\AppData\\Local\\Temp/ipykernel_17196/3286742465.py:4: SettingWithCopyWarning: \n",
      "A value is trying to be set on a copy of a slice from a DataFrame\n",
      "\n",
      "See the caveats in the documentation: https://pandas.pydata.org/pandas-docs/stable/user_guide/indexing.html#returning-a-view-versus-a-copy\n",
      "  all_groups.have_fclub[i] = \"yes\"\n",
      "C:\\Users\\HILAL-PC\\AppData\\Local\\Temp/ipykernel_17196/3286742465.py:4: SettingWithCopyWarning: \n",
      "A value is trying to be set on a copy of a slice from a DataFrame\n",
      "\n",
      "See the caveats in the documentation: https://pandas.pydata.org/pandas-docs/stable/user_guide/indexing.html#returning-a-view-versus-a-copy\n",
      "  all_groups.have_fclub[i] = \"yes\"\n",
      "C:\\Users\\HILAL-PC\\AppData\\Local\\Temp/ipykernel_17196/3286742465.py:4: SettingWithCopyWarning: \n",
      "A value is trying to be set on a copy of a slice from a DataFrame\n",
      "\n",
      "See the caveats in the documentation: https://pandas.pydata.org/pandas-docs/stable/user_guide/indexing.html#returning-a-view-versus-a-copy\n",
      "  all_groups.have_fclub[i] = \"yes\"\n",
      "C:\\Users\\HILAL-PC\\AppData\\Local\\Temp/ipykernel_17196/3286742465.py:4: SettingWithCopyWarning: \n",
      "A value is trying to be set on a copy of a slice from a DataFrame\n",
      "\n",
      "See the caveats in the documentation: https://pandas.pydata.org/pandas-docs/stable/user_guide/indexing.html#returning-a-view-versus-a-copy\n",
      "  all_groups.have_fclub[i] = \"yes\"\n",
      "C:\\Users\\HILAL-PC\\AppData\\Local\\Temp/ipykernel_17196/3286742465.py:4: SettingWithCopyWarning: \n",
      "A value is trying to be set on a copy of a slice from a DataFrame\n",
      "\n",
      "See the caveats in the documentation: https://pandas.pydata.org/pandas-docs/stable/user_guide/indexing.html#returning-a-view-versus-a-copy\n",
      "  all_groups.have_fclub[i] = \"yes\"\n",
      "C:\\Users\\HILAL-PC\\AppData\\Local\\Temp/ipykernel_17196/3286742465.py:4: SettingWithCopyWarning: \n",
      "A value is trying to be set on a copy of a slice from a DataFrame\n",
      "\n",
      "See the caveats in the documentation: https://pandas.pydata.org/pandas-docs/stable/user_guide/indexing.html#returning-a-view-versus-a-copy\n",
      "  all_groups.have_fclub[i] = \"yes\"\n",
      "C:\\Users\\HILAL-PC\\AppData\\Local\\Temp/ipykernel_17196/3286742465.py:4: SettingWithCopyWarning: \n",
      "A value is trying to be set on a copy of a slice from a DataFrame\n",
      "\n",
      "See the caveats in the documentation: https://pandas.pydata.org/pandas-docs/stable/user_guide/indexing.html#returning-a-view-versus-a-copy\n",
      "  all_groups.have_fclub[i] = \"yes\"\n",
      "C:\\Users\\HILAL-PC\\AppData\\Local\\Temp/ipykernel_17196/3286742465.py:4: SettingWithCopyWarning: \n",
      "A value is trying to be set on a copy of a slice from a DataFrame\n",
      "\n",
      "See the caveats in the documentation: https://pandas.pydata.org/pandas-docs/stable/user_guide/indexing.html#returning-a-view-versus-a-copy\n",
      "  all_groups.have_fclub[i] = \"yes\"\n",
      "C:\\Users\\HILAL-PC\\AppData\\Local\\Temp/ipykernel_17196/3286742465.py:4: SettingWithCopyWarning: \n",
      "A value is trying to be set on a copy of a slice from a DataFrame\n",
      "\n",
      "See the caveats in the documentation: https://pandas.pydata.org/pandas-docs/stable/user_guide/indexing.html#returning-a-view-versus-a-copy\n",
      "  all_groups.have_fclub[i] = \"yes\"\n",
      "C:\\Users\\HILAL-PC\\AppData\\Local\\Temp/ipykernel_17196/3286742465.py:4: SettingWithCopyWarning: \n",
      "A value is trying to be set on a copy of a slice from a DataFrame\n",
      "\n",
      "See the caveats in the documentation: https://pandas.pydata.org/pandas-docs/stable/user_guide/indexing.html#returning-a-view-versus-a-copy\n",
      "  all_groups.have_fclub[i] = \"yes\"\n",
      "C:\\Users\\HILAL-PC\\AppData\\Local\\Temp/ipykernel_17196/3286742465.py:4: SettingWithCopyWarning: \n",
      "A value is trying to be set on a copy of a slice from a DataFrame\n",
      "\n",
      "See the caveats in the documentation: https://pandas.pydata.org/pandas-docs/stable/user_guide/indexing.html#returning-a-view-versus-a-copy\n",
      "  all_groups.have_fclub[i] = \"yes\"\n",
      "C:\\Users\\HILAL-PC\\AppData\\Local\\Temp/ipykernel_17196/3286742465.py:4: SettingWithCopyWarning: \n",
      "A value is trying to be set on a copy of a slice from a DataFrame\n",
      "\n",
      "See the caveats in the documentation: https://pandas.pydata.org/pandas-docs/stable/user_guide/indexing.html#returning-a-view-versus-a-copy\n",
      "  all_groups.have_fclub[i] = \"yes\"\n",
      "C:\\Users\\HILAL-PC\\AppData\\Local\\Temp/ipykernel_17196/3286742465.py:4: SettingWithCopyWarning: \n",
      "A value is trying to be set on a copy of a slice from a DataFrame\n",
      "\n",
      "See the caveats in the documentation: https://pandas.pydata.org/pandas-docs/stable/user_guide/indexing.html#returning-a-view-versus-a-copy\n",
      "  all_groups.have_fclub[i] = \"yes\"\n",
      "C:\\Users\\HILAL-PC\\AppData\\Local\\Temp/ipykernel_17196/3286742465.py:4: SettingWithCopyWarning: \n",
      "A value is trying to be set on a copy of a slice from a DataFrame\n",
      "\n",
      "See the caveats in the documentation: https://pandas.pydata.org/pandas-docs/stable/user_guide/indexing.html#returning-a-view-versus-a-copy\n",
      "  all_groups.have_fclub[i] = \"yes\"\n",
      "C:\\Users\\HILAL-PC\\AppData\\Local\\Temp/ipykernel_17196/3286742465.py:4: SettingWithCopyWarning: \n",
      "A value is trying to be set on a copy of a slice from a DataFrame\n",
      "\n",
      "See the caveats in the documentation: https://pandas.pydata.org/pandas-docs/stable/user_guide/indexing.html#returning-a-view-versus-a-copy\n",
      "  all_groups.have_fclub[i] = \"yes\"\n",
      "C:\\Users\\HILAL-PC\\AppData\\Local\\Temp/ipykernel_17196/3286742465.py:4: SettingWithCopyWarning: \n",
      "A value is trying to be set on a copy of a slice from a DataFrame\n",
      "\n",
      "See the caveats in the documentation: https://pandas.pydata.org/pandas-docs/stable/user_guide/indexing.html#returning-a-view-versus-a-copy\n",
      "  all_groups.have_fclub[i] = \"yes\"\n",
      "C:\\Users\\HILAL-PC\\AppData\\Local\\Temp/ipykernel_17196/3286742465.py:4: SettingWithCopyWarning: \n",
      "A value is trying to be set on a copy of a slice from a DataFrame\n",
      "\n",
      "See the caveats in the documentation: https://pandas.pydata.org/pandas-docs/stable/user_guide/indexing.html#returning-a-view-versus-a-copy\n",
      "  all_groups.have_fclub[i] = \"yes\"\n",
      "C:\\Users\\HILAL-PC\\AppData\\Local\\Temp/ipykernel_17196/3286742465.py:4: SettingWithCopyWarning: \n",
      "A value is trying to be set on a copy of a slice from a DataFrame\n",
      "\n",
      "See the caveats in the documentation: https://pandas.pydata.org/pandas-docs/stable/user_guide/indexing.html#returning-a-view-versus-a-copy\n",
      "  all_groups.have_fclub[i] = \"yes\"\n",
      "C:\\Users\\HILAL-PC\\AppData\\Local\\Temp/ipykernel_17196/3286742465.py:4: SettingWithCopyWarning: \n",
      "A value is trying to be set on a copy of a slice from a DataFrame\n",
      "\n",
      "See the caveats in the documentation: https://pandas.pydata.org/pandas-docs/stable/user_guide/indexing.html#returning-a-view-versus-a-copy\n",
      "  all_groups.have_fclub[i] = \"yes\"\n",
      "C:\\Users\\HILAL-PC\\AppData\\Local\\Temp/ipykernel_17196/3286742465.py:4: SettingWithCopyWarning: \n",
      "A value is trying to be set on a copy of a slice from a DataFrame\n",
      "\n",
      "See the caveats in the documentation: https://pandas.pydata.org/pandas-docs/stable/user_guide/indexing.html#returning-a-view-versus-a-copy\n",
      "  all_groups.have_fclub[i] = \"yes\"\n",
      "C:\\Users\\HILAL-PC\\AppData\\Local\\Temp/ipykernel_17196/3286742465.py:4: SettingWithCopyWarning: \n",
      "A value is trying to be set on a copy of a slice from a DataFrame\n",
      "\n",
      "See the caveats in the documentation: https://pandas.pydata.org/pandas-docs/stable/user_guide/indexing.html#returning-a-view-versus-a-copy\n",
      "  all_groups.have_fclub[i] = \"yes\"\n",
      "C:\\Users\\HILAL-PC\\AppData\\Local\\Temp/ipykernel_17196/3286742465.py:4: SettingWithCopyWarning: \n",
      "A value is trying to be set on a copy of a slice from a DataFrame\n",
      "\n",
      "See the caveats in the documentation: https://pandas.pydata.org/pandas-docs/stable/user_guide/indexing.html#returning-a-view-versus-a-copy\n",
      "  all_groups.have_fclub[i] = \"yes\"\n",
      "C:\\Users\\HILAL-PC\\AppData\\Local\\Temp/ipykernel_17196/3286742465.py:4: SettingWithCopyWarning: \n",
      "A value is trying to be set on a copy of a slice from a DataFrame\n",
      "\n",
      "See the caveats in the documentation: https://pandas.pydata.org/pandas-docs/stable/user_guide/indexing.html#returning-a-view-versus-a-copy\n",
      "  all_groups.have_fclub[i] = \"yes\"\n",
      "C:\\Users\\HILAL-PC\\AppData\\Local\\Temp/ipykernel_17196/3286742465.py:4: SettingWithCopyWarning: \n",
      "A value is trying to be set on a copy of a slice from a DataFrame\n",
      "\n",
      "See the caveats in the documentation: https://pandas.pydata.org/pandas-docs/stable/user_guide/indexing.html#returning-a-view-versus-a-copy\n",
      "  all_groups.have_fclub[i] = \"yes\"\n",
      "C:\\Users\\HILAL-PC\\AppData\\Local\\Temp/ipykernel_17196/3286742465.py:4: SettingWithCopyWarning: \n",
      "A value is trying to be set on a copy of a slice from a DataFrame\n",
      "\n",
      "See the caveats in the documentation: https://pandas.pydata.org/pandas-docs/stable/user_guide/indexing.html#returning-a-view-versus-a-copy\n",
      "  all_groups.have_fclub[i] = \"yes\"\n",
      "C:\\Users\\HILAL-PC\\AppData\\Local\\Temp/ipykernel_17196/3286742465.py:4: SettingWithCopyWarning: \n",
      "A value is trying to be set on a copy of a slice from a DataFrame\n",
      "\n",
      "See the caveats in the documentation: https://pandas.pydata.org/pandas-docs/stable/user_guide/indexing.html#returning-a-view-versus-a-copy\n",
      "  all_groups.have_fclub[i] = \"yes\"\n",
      "C:\\Users\\HILAL-PC\\AppData\\Local\\Temp/ipykernel_17196/3286742465.py:4: SettingWithCopyWarning: \n",
      "A value is trying to be set on a copy of a slice from a DataFrame\n",
      "\n",
      "See the caveats in the documentation: https://pandas.pydata.org/pandas-docs/stable/user_guide/indexing.html#returning-a-view-versus-a-copy\n",
      "  all_groups.have_fclub[i] = \"yes\"\n",
      "C:\\Users\\HILAL-PC\\AppData\\Local\\Temp/ipykernel_17196/3286742465.py:4: SettingWithCopyWarning: \n",
      "A value is trying to be set on a copy of a slice from a DataFrame\n",
      "\n",
      "See the caveats in the documentation: https://pandas.pydata.org/pandas-docs/stable/user_guide/indexing.html#returning-a-view-versus-a-copy\n",
      "  all_groups.have_fclub[i] = \"yes\"\n",
      "C:\\Users\\HILAL-PC\\AppData\\Local\\Temp/ipykernel_17196/3286742465.py:4: SettingWithCopyWarning: \n",
      "A value is trying to be set on a copy of a slice from a DataFrame\n",
      "\n",
      "See the caveats in the documentation: https://pandas.pydata.org/pandas-docs/stable/user_guide/indexing.html#returning-a-view-versus-a-copy\n",
      "  all_groups.have_fclub[i] = \"yes\"\n",
      "C:\\Users\\HILAL-PC\\AppData\\Local\\Temp/ipykernel_17196/3286742465.py:4: SettingWithCopyWarning: \n",
      "A value is trying to be set on a copy of a slice from a DataFrame\n",
      "\n",
      "See the caveats in the documentation: https://pandas.pydata.org/pandas-docs/stable/user_guide/indexing.html#returning-a-view-versus-a-copy\n",
      "  all_groups.have_fclub[i] = \"yes\"\n",
      "C:\\Users\\HILAL-PC\\AppData\\Local\\Temp/ipykernel_17196/3286742465.py:4: SettingWithCopyWarning: \n",
      "A value is trying to be set on a copy of a slice from a DataFrame\n",
      "\n",
      "See the caveats in the documentation: https://pandas.pydata.org/pandas-docs/stable/user_guide/indexing.html#returning-a-view-versus-a-copy\n",
      "  all_groups.have_fclub[i] = \"yes\"\n",
      "C:\\Users\\HILAL-PC\\AppData\\Local\\Temp/ipykernel_17196/3286742465.py:4: SettingWithCopyWarning: \n",
      "A value is trying to be set on a copy of a slice from a DataFrame\n",
      "\n",
      "See the caveats in the documentation: https://pandas.pydata.org/pandas-docs/stable/user_guide/indexing.html#returning-a-view-versus-a-copy\n",
      "  all_groups.have_fclub[i] = \"yes\"\n",
      "C:\\Users\\HILAL-PC\\AppData\\Local\\Temp/ipykernel_17196/3286742465.py:4: SettingWithCopyWarning: \n",
      "A value is trying to be set on a copy of a slice from a DataFrame\n",
      "\n",
      "See the caveats in the documentation: https://pandas.pydata.org/pandas-docs/stable/user_guide/indexing.html#returning-a-view-versus-a-copy\n",
      "  all_groups.have_fclub[i] = \"yes\"\n",
      "C:\\Users\\HILAL-PC\\AppData\\Local\\Temp/ipykernel_17196/3286742465.py:4: SettingWithCopyWarning: \n",
      "A value is trying to be set on a copy of a slice from a DataFrame\n",
      "\n",
      "See the caveats in the documentation: https://pandas.pydata.org/pandas-docs/stable/user_guide/indexing.html#returning-a-view-versus-a-copy\n",
      "  all_groups.have_fclub[i] = \"yes\"\n",
      "C:\\Users\\HILAL-PC\\AppData\\Local\\Temp/ipykernel_17196/3286742465.py:4: SettingWithCopyWarning: \n",
      "A value is trying to be set on a copy of a slice from a DataFrame\n",
      "\n",
      "See the caveats in the documentation: https://pandas.pydata.org/pandas-docs/stable/user_guide/indexing.html#returning-a-view-versus-a-copy\n",
      "  all_groups.have_fclub[i] = \"yes\"\n",
      "C:\\Users\\HILAL-PC\\AppData\\Local\\Temp/ipykernel_17196/3286742465.py:4: SettingWithCopyWarning: \n",
      "A value is trying to be set on a copy of a slice from a DataFrame\n",
      "\n",
      "See the caveats in the documentation: https://pandas.pydata.org/pandas-docs/stable/user_guide/indexing.html#returning-a-view-versus-a-copy\n",
      "  all_groups.have_fclub[i] = \"yes\"\n",
      "C:\\Users\\HILAL-PC\\AppData\\Local\\Temp/ipykernel_17196/3286742465.py:4: SettingWithCopyWarning: \n",
      "A value is trying to be set on a copy of a slice from a DataFrame\n",
      "\n",
      "See the caveats in the documentation: https://pandas.pydata.org/pandas-docs/stable/user_guide/indexing.html#returning-a-view-versus-a-copy\n",
      "  all_groups.have_fclub[i] = \"yes\"\n",
      "C:\\Users\\HILAL-PC\\AppData\\Local\\Temp/ipykernel_17196/3286742465.py:4: SettingWithCopyWarning: \n",
      "A value is trying to be set on a copy of a slice from a DataFrame\n",
      "\n",
      "See the caveats in the documentation: https://pandas.pydata.org/pandas-docs/stable/user_guide/indexing.html#returning-a-view-versus-a-copy\n",
      "  all_groups.have_fclub[i] = \"yes\"\n",
      "C:\\Users\\HILAL-PC\\AppData\\Local\\Temp/ipykernel_17196/3286742465.py:4: SettingWithCopyWarning: \n",
      "A value is trying to be set on a copy of a slice from a DataFrame\n",
      "\n",
      "See the caveats in the documentation: https://pandas.pydata.org/pandas-docs/stable/user_guide/indexing.html#returning-a-view-versus-a-copy\n",
      "  all_groups.have_fclub[i] = \"yes\"\n",
      "C:\\Users\\HILAL-PC\\AppData\\Local\\Temp/ipykernel_17196/3286742465.py:4: SettingWithCopyWarning: \n",
      "A value is trying to be set on a copy of a slice from a DataFrame\n",
      "\n",
      "See the caveats in the documentation: https://pandas.pydata.org/pandas-docs/stable/user_guide/indexing.html#returning-a-view-versus-a-copy\n",
      "  all_groups.have_fclub[i] = \"yes\"\n",
      "C:\\Users\\HILAL-PC\\AppData\\Local\\Temp/ipykernel_17196/3286742465.py:4: SettingWithCopyWarning: \n",
      "A value is trying to be set on a copy of a slice from a DataFrame\n",
      "\n",
      "See the caveats in the documentation: https://pandas.pydata.org/pandas-docs/stable/user_guide/indexing.html#returning-a-view-versus-a-copy\n",
      "  all_groups.have_fclub[i] = \"yes\"\n",
      "C:\\Users\\HILAL-PC\\AppData\\Local\\Temp/ipykernel_17196/3286742465.py:4: SettingWithCopyWarning: \n",
      "A value is trying to be set on a copy of a slice from a DataFrame\n",
      "\n",
      "See the caveats in the documentation: https://pandas.pydata.org/pandas-docs/stable/user_guide/indexing.html#returning-a-view-versus-a-copy\n",
      "  all_groups.have_fclub[i] = \"yes\"\n",
      "C:\\Users\\HILAL-PC\\AppData\\Local\\Temp/ipykernel_17196/3286742465.py:4: SettingWithCopyWarning: \n",
      "A value is trying to be set on a copy of a slice from a DataFrame\n",
      "\n",
      "See the caveats in the documentation: https://pandas.pydata.org/pandas-docs/stable/user_guide/indexing.html#returning-a-view-versus-a-copy\n",
      "  all_groups.have_fclub[i] = \"yes\"\n",
      "C:\\Users\\HILAL-PC\\AppData\\Local\\Temp/ipykernel_17196/3286742465.py:4: SettingWithCopyWarning: \n",
      "A value is trying to be set on a copy of a slice from a DataFrame\n",
      "\n",
      "See the caveats in the documentation: https://pandas.pydata.org/pandas-docs/stable/user_guide/indexing.html#returning-a-view-versus-a-copy\n",
      "  all_groups.have_fclub[i] = \"yes\"\n",
      "C:\\Users\\HILAL-PC\\AppData\\Local\\Temp/ipykernel_17196/3286742465.py:4: SettingWithCopyWarning: \n",
      "A value is trying to be set on a copy of a slice from a DataFrame\n",
      "\n",
      "See the caveats in the documentation: https://pandas.pydata.org/pandas-docs/stable/user_guide/indexing.html#returning-a-view-versus-a-copy\n",
      "  all_groups.have_fclub[i] = \"yes\"\n",
      "C:\\Users\\HILAL-PC\\AppData\\Local\\Temp/ipykernel_17196/3286742465.py:4: SettingWithCopyWarning: \n",
      "A value is trying to be set on a copy of a slice from a DataFrame\n",
      "\n",
      "See the caveats in the documentation: https://pandas.pydata.org/pandas-docs/stable/user_guide/indexing.html#returning-a-view-versus-a-copy\n",
      "  all_groups.have_fclub[i] = \"yes\"\n",
      "C:\\Users\\HILAL-PC\\AppData\\Local\\Temp/ipykernel_17196/3286742465.py:4: SettingWithCopyWarning: \n",
      "A value is trying to be set on a copy of a slice from a DataFrame\n",
      "\n",
      "See the caveats in the documentation: https://pandas.pydata.org/pandas-docs/stable/user_guide/indexing.html#returning-a-view-versus-a-copy\n",
      "  all_groups.have_fclub[i] = \"yes\"\n",
      "C:\\Users\\HILAL-PC\\AppData\\Local\\Temp/ipykernel_17196/3286742465.py:4: SettingWithCopyWarning: \n",
      "A value is trying to be set on a copy of a slice from a DataFrame\n",
      "\n",
      "See the caveats in the documentation: https://pandas.pydata.org/pandas-docs/stable/user_guide/indexing.html#returning-a-view-versus-a-copy\n",
      "  all_groups.have_fclub[i] = \"yes\"\n",
      "C:\\Users\\HILAL-PC\\AppData\\Local\\Temp/ipykernel_17196/3286742465.py:4: SettingWithCopyWarning: \n",
      "A value is trying to be set on a copy of a slice from a DataFrame\n",
      "\n",
      "See the caveats in the documentation: https://pandas.pydata.org/pandas-docs/stable/user_guide/indexing.html#returning-a-view-versus-a-copy\n",
      "  all_groups.have_fclub[i] = \"yes\"\n",
      "C:\\Users\\HILAL-PC\\AppData\\Local\\Temp/ipykernel_17196/3286742465.py:4: SettingWithCopyWarning: \n",
      "A value is trying to be set on a copy of a slice from a DataFrame\n",
      "\n",
      "See the caveats in the documentation: https://pandas.pydata.org/pandas-docs/stable/user_guide/indexing.html#returning-a-view-versus-a-copy\n",
      "  all_groups.have_fclub[i] = \"yes\"\n",
      "C:\\Users\\HILAL-PC\\AppData\\Local\\Temp/ipykernel_17196/3286742465.py:4: SettingWithCopyWarning: \n",
      "A value is trying to be set on a copy of a slice from a DataFrame\n",
      "\n",
      "See the caveats in the documentation: https://pandas.pydata.org/pandas-docs/stable/user_guide/indexing.html#returning-a-view-versus-a-copy\n",
      "  all_groups.have_fclub[i] = \"yes\"\n",
      "C:\\Users\\HILAL-PC\\AppData\\Local\\Temp/ipykernel_17196/3286742465.py:4: SettingWithCopyWarning: \n",
      "A value is trying to be set on a copy of a slice from a DataFrame\n",
      "\n",
      "See the caveats in the documentation: https://pandas.pydata.org/pandas-docs/stable/user_guide/indexing.html#returning-a-view-versus-a-copy\n",
      "  all_groups.have_fclub[i] = \"yes\"\n",
      "C:\\Users\\HILAL-PC\\AppData\\Local\\Temp/ipykernel_17196/3286742465.py:4: SettingWithCopyWarning: \n",
      "A value is trying to be set on a copy of a slice from a DataFrame\n",
      "\n",
      "See the caveats in the documentation: https://pandas.pydata.org/pandas-docs/stable/user_guide/indexing.html#returning-a-view-versus-a-copy\n",
      "  all_groups.have_fclub[i] = \"yes\"\n",
      "C:\\Users\\HILAL-PC\\AppData\\Local\\Temp/ipykernel_17196/3286742465.py:4: SettingWithCopyWarning: \n",
      "A value is trying to be set on a copy of a slice from a DataFrame\n",
      "\n",
      "See the caveats in the documentation: https://pandas.pydata.org/pandas-docs/stable/user_guide/indexing.html#returning-a-view-versus-a-copy\n",
      "  all_groups.have_fclub[i] = \"yes\"\n",
      "C:\\Users\\HILAL-PC\\AppData\\Local\\Temp/ipykernel_17196/3286742465.py:4: SettingWithCopyWarning: \n",
      "A value is trying to be set on a copy of a slice from a DataFrame\n",
      "\n",
      "See the caveats in the documentation: https://pandas.pydata.org/pandas-docs/stable/user_guide/indexing.html#returning-a-view-versus-a-copy\n",
      "  all_groups.have_fclub[i] = \"yes\"\n",
      "C:\\Users\\HILAL-PC\\AppData\\Local\\Temp/ipykernel_17196/3286742465.py:4: SettingWithCopyWarning: \n",
      "A value is trying to be set on a copy of a slice from a DataFrame\n",
      "\n",
      "See the caveats in the documentation: https://pandas.pydata.org/pandas-docs/stable/user_guide/indexing.html#returning-a-view-versus-a-copy\n",
      "  all_groups.have_fclub[i] = \"yes\"\n",
      "C:\\Users\\HILAL-PC\\AppData\\Local\\Temp/ipykernel_17196/3286742465.py:4: SettingWithCopyWarning: \n",
      "A value is trying to be set on a copy of a slice from a DataFrame\n",
      "\n",
      "See the caveats in the documentation: https://pandas.pydata.org/pandas-docs/stable/user_guide/indexing.html#returning-a-view-versus-a-copy\n",
      "  all_groups.have_fclub[i] = \"yes\"\n",
      "C:\\Users\\HILAL-PC\\AppData\\Local\\Temp/ipykernel_17196/3286742465.py:4: SettingWithCopyWarning: \n",
      "A value is trying to be set on a copy of a slice from a DataFrame\n",
      "\n",
      "See the caveats in the documentation: https://pandas.pydata.org/pandas-docs/stable/user_guide/indexing.html#returning-a-view-versus-a-copy\n",
      "  all_groups.have_fclub[i] = \"yes\"\n",
      "C:\\Users\\HILAL-PC\\AppData\\Local\\Temp/ipykernel_17196/3286742465.py:4: SettingWithCopyWarning: \n",
      "A value is trying to be set on a copy of a slice from a DataFrame\n",
      "\n",
      "See the caveats in the documentation: https://pandas.pydata.org/pandas-docs/stable/user_guide/indexing.html#returning-a-view-versus-a-copy\n",
      "  all_groups.have_fclub[i] = \"yes\"\n",
      "C:\\Users\\HILAL-PC\\AppData\\Local\\Temp/ipykernel_17196/3286742465.py:4: SettingWithCopyWarning: \n",
      "A value is trying to be set on a copy of a slice from a DataFrame\n",
      "\n",
      "See the caveats in the documentation: https://pandas.pydata.org/pandas-docs/stable/user_guide/indexing.html#returning-a-view-versus-a-copy\n",
      "  all_groups.have_fclub[i] = \"yes\"\n",
      "C:\\Users\\HILAL-PC\\AppData\\Local\\Temp/ipykernel_17196/3286742465.py:4: SettingWithCopyWarning: \n",
      "A value is trying to be set on a copy of a slice from a DataFrame\n",
      "\n",
      "See the caveats in the documentation: https://pandas.pydata.org/pandas-docs/stable/user_guide/indexing.html#returning-a-view-versus-a-copy\n",
      "  all_groups.have_fclub[i] = \"yes\"\n",
      "C:\\Users\\HILAL-PC\\AppData\\Local\\Temp/ipykernel_17196/3286742465.py:4: SettingWithCopyWarning: \n",
      "A value is trying to be set on a copy of a slice from a DataFrame\n",
      "\n",
      "See the caveats in the documentation: https://pandas.pydata.org/pandas-docs/stable/user_guide/indexing.html#returning-a-view-versus-a-copy\n",
      "  all_groups.have_fclub[i] = \"yes\"\n",
      "C:\\Users\\HILAL-PC\\AppData\\Local\\Temp/ipykernel_17196/3286742465.py:4: SettingWithCopyWarning: \n",
      "A value is trying to be set on a copy of a slice from a DataFrame\n",
      "\n",
      "See the caveats in the documentation: https://pandas.pydata.org/pandas-docs/stable/user_guide/indexing.html#returning-a-view-versus-a-copy\n",
      "  all_groups.have_fclub[i] = \"yes\"\n",
      "C:\\Users\\HILAL-PC\\AppData\\Local\\Temp/ipykernel_17196/3286742465.py:4: SettingWithCopyWarning: \n",
      "A value is trying to be set on a copy of a slice from a DataFrame\n",
      "\n",
      "See the caveats in the documentation: https://pandas.pydata.org/pandas-docs/stable/user_guide/indexing.html#returning-a-view-versus-a-copy\n",
      "  all_groups.have_fclub[i] = \"yes\"\n",
      "C:\\Users\\HILAL-PC\\AppData\\Local\\Temp/ipykernel_17196/3286742465.py:4: SettingWithCopyWarning: \n",
      "A value is trying to be set on a copy of a slice from a DataFrame\n",
      "\n",
      "See the caveats in the documentation: https://pandas.pydata.org/pandas-docs/stable/user_guide/indexing.html#returning-a-view-versus-a-copy\n",
      "  all_groups.have_fclub[i] = \"yes\"\n",
      "C:\\Users\\HILAL-PC\\AppData\\Local\\Temp/ipykernel_17196/3286742465.py:4: SettingWithCopyWarning: \n",
      "A value is trying to be set on a copy of a slice from a DataFrame\n",
      "\n",
      "See the caveats in the documentation: https://pandas.pydata.org/pandas-docs/stable/user_guide/indexing.html#returning-a-view-versus-a-copy\n",
      "  all_groups.have_fclub[i] = \"yes\"\n",
      "C:\\Users\\HILAL-PC\\AppData\\Local\\Temp/ipykernel_17196/3286742465.py:4: SettingWithCopyWarning: \n",
      "A value is trying to be set on a copy of a slice from a DataFrame\n",
      "\n",
      "See the caveats in the documentation: https://pandas.pydata.org/pandas-docs/stable/user_guide/indexing.html#returning-a-view-versus-a-copy\n",
      "  all_groups.have_fclub[i] = \"yes\"\n",
      "C:\\Users\\HILAL-PC\\AppData\\Local\\Temp/ipykernel_17196/3286742465.py:4: SettingWithCopyWarning: \n",
      "A value is trying to be set on a copy of a slice from a DataFrame\n",
      "\n",
      "See the caveats in the documentation: https://pandas.pydata.org/pandas-docs/stable/user_guide/indexing.html#returning-a-view-versus-a-copy\n",
      "  all_groups.have_fclub[i] = \"yes\"\n",
      "C:\\Users\\HILAL-PC\\AppData\\Local\\Temp/ipykernel_17196/3286742465.py:4: SettingWithCopyWarning: \n",
      "A value is trying to be set on a copy of a slice from a DataFrame\n",
      "\n",
      "See the caveats in the documentation: https://pandas.pydata.org/pandas-docs/stable/user_guide/indexing.html#returning-a-view-versus-a-copy\n",
      "  all_groups.have_fclub[i] = \"yes\"\n",
      "C:\\Users\\HILAL-PC\\AppData\\Local\\Temp/ipykernel_17196/3286742465.py:4: SettingWithCopyWarning: \n",
      "A value is trying to be set on a copy of a slice from a DataFrame\n",
      "\n",
      "See the caveats in the documentation: https://pandas.pydata.org/pandas-docs/stable/user_guide/indexing.html#returning-a-view-versus-a-copy\n",
      "  all_groups.have_fclub[i] = \"yes\"\n",
      "C:\\Users\\HILAL-PC\\AppData\\Local\\Temp/ipykernel_17196/3286742465.py:4: SettingWithCopyWarning: \n",
      "A value is trying to be set on a copy of a slice from a DataFrame\n",
      "\n",
      "See the caveats in the documentation: https://pandas.pydata.org/pandas-docs/stable/user_guide/indexing.html#returning-a-view-versus-a-copy\n",
      "  all_groups.have_fclub[i] = \"yes\"\n",
      "C:\\Users\\HILAL-PC\\AppData\\Local\\Temp/ipykernel_17196/3286742465.py:4: SettingWithCopyWarning: \n",
      "A value is trying to be set on a copy of a slice from a DataFrame\n",
      "\n",
      "See the caveats in the documentation: https://pandas.pydata.org/pandas-docs/stable/user_guide/indexing.html#returning-a-view-versus-a-copy\n",
      "  all_groups.have_fclub[i] = \"yes\"\n",
      "C:\\Users\\HILAL-PC\\AppData\\Local\\Temp/ipykernel_17196/3286742465.py:4: SettingWithCopyWarning: \n",
      "A value is trying to be set on a copy of a slice from a DataFrame\n",
      "\n",
      "See the caveats in the documentation: https://pandas.pydata.org/pandas-docs/stable/user_guide/indexing.html#returning-a-view-versus-a-copy\n",
      "  all_groups.have_fclub[i] = \"yes\"\n",
      "C:\\Users\\HILAL-PC\\AppData\\Local\\Temp/ipykernel_17196/3286742465.py:4: SettingWithCopyWarning: \n",
      "A value is trying to be set on a copy of a slice from a DataFrame\n",
      "\n",
      "See the caveats in the documentation: https://pandas.pydata.org/pandas-docs/stable/user_guide/indexing.html#returning-a-view-versus-a-copy\n",
      "  all_groups.have_fclub[i] = \"yes\"\n",
      "C:\\Users\\HILAL-PC\\AppData\\Local\\Temp/ipykernel_17196/3286742465.py:4: SettingWithCopyWarning: \n",
      "A value is trying to be set on a copy of a slice from a DataFrame\n",
      "\n",
      "See the caveats in the documentation: https://pandas.pydata.org/pandas-docs/stable/user_guide/indexing.html#returning-a-view-versus-a-copy\n",
      "  all_groups.have_fclub[i] = \"yes\"\n",
      "C:\\Users\\HILAL-PC\\AppData\\Local\\Temp/ipykernel_17196/3286742465.py:4: SettingWithCopyWarning: \n",
      "A value is trying to be set on a copy of a slice from a DataFrame\n",
      "\n",
      "See the caveats in the documentation: https://pandas.pydata.org/pandas-docs/stable/user_guide/indexing.html#returning-a-view-versus-a-copy\n",
      "  all_groups.have_fclub[i] = \"yes\"\n",
      "C:\\Users\\HILAL-PC\\AppData\\Local\\Temp/ipykernel_17196/3286742465.py:4: SettingWithCopyWarning: \n",
      "A value is trying to be set on a copy of a slice from a DataFrame\n",
      "\n",
      "See the caveats in the documentation: https://pandas.pydata.org/pandas-docs/stable/user_guide/indexing.html#returning-a-view-versus-a-copy\n",
      "  all_groups.have_fclub[i] = \"yes\"\n",
      "C:\\Users\\HILAL-PC\\AppData\\Local\\Temp/ipykernel_17196/3286742465.py:4: SettingWithCopyWarning: \n",
      "A value is trying to be set on a copy of a slice from a DataFrame\n",
      "\n",
      "See the caveats in the documentation: https://pandas.pydata.org/pandas-docs/stable/user_guide/indexing.html#returning-a-view-versus-a-copy\n",
      "  all_groups.have_fclub[i] = \"yes\"\n",
      "C:\\Users\\HILAL-PC\\AppData\\Local\\Temp/ipykernel_17196/3286742465.py:4: SettingWithCopyWarning: \n",
      "A value is trying to be set on a copy of a slice from a DataFrame\n",
      "\n",
      "See the caveats in the documentation: https://pandas.pydata.org/pandas-docs/stable/user_guide/indexing.html#returning-a-view-versus-a-copy\n",
      "  all_groups.have_fclub[i] = \"yes\"\n",
      "C:\\Users\\HILAL-PC\\AppData\\Local\\Temp/ipykernel_17196/3286742465.py:4: SettingWithCopyWarning: \n",
      "A value is trying to be set on a copy of a slice from a DataFrame\n",
      "\n",
      "See the caveats in the documentation: https://pandas.pydata.org/pandas-docs/stable/user_guide/indexing.html#returning-a-view-versus-a-copy\n",
      "  all_groups.have_fclub[i] = \"yes\"\n",
      "C:\\Users\\HILAL-PC\\AppData\\Local\\Temp/ipykernel_17196/3286742465.py:4: SettingWithCopyWarning: \n",
      "A value is trying to be set on a copy of a slice from a DataFrame\n",
      "\n",
      "See the caveats in the documentation: https://pandas.pydata.org/pandas-docs/stable/user_guide/indexing.html#returning-a-view-versus-a-copy\n",
      "  all_groups.have_fclub[i] = \"yes\"\n",
      "C:\\Users\\HILAL-PC\\AppData\\Local\\Temp/ipykernel_17196/3286742465.py:4: SettingWithCopyWarning: \n",
      "A value is trying to be set on a copy of a slice from a DataFrame\n",
      "\n",
      "See the caveats in the documentation: https://pandas.pydata.org/pandas-docs/stable/user_guide/indexing.html#returning-a-view-versus-a-copy\n",
      "  all_groups.have_fclub[i] = \"yes\"\n",
      "C:\\Users\\HILAL-PC\\AppData\\Local\\Temp/ipykernel_17196/3286742465.py:4: SettingWithCopyWarning: \n",
      "A value is trying to be set on a copy of a slice from a DataFrame\n",
      "\n",
      "See the caveats in the documentation: https://pandas.pydata.org/pandas-docs/stable/user_guide/indexing.html#returning-a-view-versus-a-copy\n",
      "  all_groups.have_fclub[i] = \"yes\"\n",
      "C:\\Users\\HILAL-PC\\AppData\\Local\\Temp/ipykernel_17196/3286742465.py:4: SettingWithCopyWarning: \n",
      "A value is trying to be set on a copy of a slice from a DataFrame\n",
      "\n",
      "See the caveats in the documentation: https://pandas.pydata.org/pandas-docs/stable/user_guide/indexing.html#returning-a-view-versus-a-copy\n",
      "  all_groups.have_fclub[i] = \"yes\"\n",
      "C:\\Users\\HILAL-PC\\AppData\\Local\\Temp/ipykernel_17196/3286742465.py:4: SettingWithCopyWarning: \n",
      "A value is trying to be set on a copy of a slice from a DataFrame\n",
      "\n",
      "See the caveats in the documentation: https://pandas.pydata.org/pandas-docs/stable/user_guide/indexing.html#returning-a-view-versus-a-copy\n",
      "  all_groups.have_fclub[i] = \"yes\"\n",
      "C:\\Users\\HILAL-PC\\AppData\\Local\\Temp/ipykernel_17196/3286742465.py:4: SettingWithCopyWarning: \n",
      "A value is trying to be set on a copy of a slice from a DataFrame\n",
      "\n",
      "See the caveats in the documentation: https://pandas.pydata.org/pandas-docs/stable/user_guide/indexing.html#returning-a-view-versus-a-copy\n",
      "  all_groups.have_fclub[i] = \"yes\"\n",
      "C:\\Users\\HILAL-PC\\AppData\\Local\\Temp/ipykernel_17196/3286742465.py:4: SettingWithCopyWarning: \n",
      "A value is trying to be set on a copy of a slice from a DataFrame\n",
      "\n",
      "See the caveats in the documentation: https://pandas.pydata.org/pandas-docs/stable/user_guide/indexing.html#returning-a-view-versus-a-copy\n",
      "  all_groups.have_fclub[i] = \"yes\"\n",
      "C:\\Users\\HILAL-PC\\AppData\\Local\\Temp/ipykernel_17196/3286742465.py:4: SettingWithCopyWarning: \n",
      "A value is trying to be set on a copy of a slice from a DataFrame\n",
      "\n",
      "See the caveats in the documentation: https://pandas.pydata.org/pandas-docs/stable/user_guide/indexing.html#returning-a-view-versus-a-copy\n",
      "  all_groups.have_fclub[i] = \"yes\"\n",
      "C:\\Users\\HILAL-PC\\AppData\\Local\\Temp/ipykernel_17196/3286742465.py:4: SettingWithCopyWarning: \n",
      "A value is trying to be set on a copy of a slice from a DataFrame\n",
      "\n",
      "See the caveats in the documentation: https://pandas.pydata.org/pandas-docs/stable/user_guide/indexing.html#returning-a-view-versus-a-copy\n",
      "  all_groups.have_fclub[i] = \"yes\"\n",
      "C:\\Users\\HILAL-PC\\AppData\\Local\\Temp/ipykernel_17196/3286742465.py:4: SettingWithCopyWarning: \n",
      "A value is trying to be set on a copy of a slice from a DataFrame\n",
      "\n",
      "See the caveats in the documentation: https://pandas.pydata.org/pandas-docs/stable/user_guide/indexing.html#returning-a-view-versus-a-copy\n",
      "  all_groups.have_fclub[i] = \"yes\"\n",
      "C:\\Users\\HILAL-PC\\AppData\\Local\\Temp/ipykernel_17196/3286742465.py:4: SettingWithCopyWarning: \n",
      "A value is trying to be set on a copy of a slice from a DataFrame\n",
      "\n",
      "See the caveats in the documentation: https://pandas.pydata.org/pandas-docs/stable/user_guide/indexing.html#returning-a-view-versus-a-copy\n",
      "  all_groups.have_fclub[i] = \"yes\"\n",
      "C:\\Users\\HILAL-PC\\AppData\\Local\\Temp/ipykernel_17196/3286742465.py:4: SettingWithCopyWarning: \n",
      "A value is trying to be set on a copy of a slice from a DataFrame\n",
      "\n",
      "See the caveats in the documentation: https://pandas.pydata.org/pandas-docs/stable/user_guide/indexing.html#returning-a-view-versus-a-copy\n",
      "  all_groups.have_fclub[i] = \"yes\"\n",
      "C:\\Users\\HILAL-PC\\AppData\\Local\\Temp/ipykernel_17196/3286742465.py:4: SettingWithCopyWarning: \n",
      "A value is trying to be set on a copy of a slice from a DataFrame\n",
      "\n",
      "See the caveats in the documentation: https://pandas.pydata.org/pandas-docs/stable/user_guide/indexing.html#returning-a-view-versus-a-copy\n",
      "  all_groups.have_fclub[i] = \"yes\"\n",
      "C:\\Users\\HILAL-PC\\AppData\\Local\\Temp/ipykernel_17196/3286742465.py:4: SettingWithCopyWarning: \n",
      "A value is trying to be set on a copy of a slice from a DataFrame\n",
      "\n",
      "See the caveats in the documentation: https://pandas.pydata.org/pandas-docs/stable/user_guide/indexing.html#returning-a-view-versus-a-copy\n",
      "  all_groups.have_fclub[i] = \"yes\"\n",
      "C:\\Users\\HILAL-PC\\AppData\\Local\\Temp/ipykernel_17196/3286742465.py:4: SettingWithCopyWarning: \n",
      "A value is trying to be set on a copy of a slice from a DataFrame\n",
      "\n",
      "See the caveats in the documentation: https://pandas.pydata.org/pandas-docs/stable/user_guide/indexing.html#returning-a-view-versus-a-copy\n",
      "  all_groups.have_fclub[i] = \"yes\"\n",
      "C:\\Users\\HILAL-PC\\AppData\\Local\\Temp/ipykernel_17196/3286742465.py:4: SettingWithCopyWarning: \n",
      "A value is trying to be set on a copy of a slice from a DataFrame\n",
      "\n",
      "See the caveats in the documentation: https://pandas.pydata.org/pandas-docs/stable/user_guide/indexing.html#returning-a-view-versus-a-copy\n",
      "  all_groups.have_fclub[i] = \"yes\"\n",
      "C:\\Users\\HILAL-PC\\AppData\\Local\\Temp/ipykernel_17196/3286742465.py:4: SettingWithCopyWarning: \n",
      "A value is trying to be set on a copy of a slice from a DataFrame\n",
      "\n",
      "See the caveats in the documentation: https://pandas.pydata.org/pandas-docs/stable/user_guide/indexing.html#returning-a-view-versus-a-copy\n",
      "  all_groups.have_fclub[i] = \"yes\"\n",
      "C:\\Users\\HILAL-PC\\AppData\\Local\\Temp/ipykernel_17196/3286742465.py:4: SettingWithCopyWarning: \n",
      "A value is trying to be set on a copy of a slice from a DataFrame\n",
      "\n",
      "See the caveats in the documentation: https://pandas.pydata.org/pandas-docs/stable/user_guide/indexing.html#returning-a-view-versus-a-copy\n",
      "  all_groups.have_fclub[i] = \"yes\"\n",
      "C:\\Users\\HILAL-PC\\AppData\\Local\\Temp/ipykernel_17196/3286742465.py:4: SettingWithCopyWarning: \n",
      "A value is trying to be set on a copy of a slice from a DataFrame\n",
      "\n",
      "See the caveats in the documentation: https://pandas.pydata.org/pandas-docs/stable/user_guide/indexing.html#returning-a-view-versus-a-copy\n",
      "  all_groups.have_fclub[i] = \"yes\"\n",
      "C:\\Users\\HILAL-PC\\AppData\\Local\\Temp/ipykernel_17196/3286742465.py:4: SettingWithCopyWarning: \n",
      "A value is trying to be set on a copy of a slice from a DataFrame\n",
      "\n",
      "See the caveats in the documentation: https://pandas.pydata.org/pandas-docs/stable/user_guide/indexing.html#returning-a-view-versus-a-copy\n",
      "  all_groups.have_fclub[i] = \"yes\"\n",
      "C:\\Users\\HILAL-PC\\AppData\\Local\\Temp/ipykernel_17196/3286742465.py:4: SettingWithCopyWarning: \n",
      "A value is trying to be set on a copy of a slice from a DataFrame\n",
      "\n",
      "See the caveats in the documentation: https://pandas.pydata.org/pandas-docs/stable/user_guide/indexing.html#returning-a-view-versus-a-copy\n",
      "  all_groups.have_fclub[i] = \"yes\"\n",
      "C:\\Users\\HILAL-PC\\AppData\\Local\\Temp/ipykernel_17196/3286742465.py:4: SettingWithCopyWarning: \n",
      "A value is trying to be set on a copy of a slice from a DataFrame\n",
      "\n",
      "See the caveats in the documentation: https://pandas.pydata.org/pandas-docs/stable/user_guide/indexing.html#returning-a-view-versus-a-copy\n",
      "  all_groups.have_fclub[i] = \"yes\"\n",
      "C:\\Users\\HILAL-PC\\AppData\\Local\\Temp/ipykernel_17196/3286742465.py:4: SettingWithCopyWarning: \n",
      "A value is trying to be set on a copy of a slice from a DataFrame\n",
      "\n",
      "See the caveats in the documentation: https://pandas.pydata.org/pandas-docs/stable/user_guide/indexing.html#returning-a-view-versus-a-copy\n",
      "  all_groups.have_fclub[i] = \"yes\"\n",
      "C:\\Users\\HILAL-PC\\AppData\\Local\\Temp/ipykernel_17196/3286742465.py:4: SettingWithCopyWarning: \n",
      "A value is trying to be set on a copy of a slice from a DataFrame\n",
      "\n",
      "See the caveats in the documentation: https://pandas.pydata.org/pandas-docs/stable/user_guide/indexing.html#returning-a-view-versus-a-copy\n",
      "  all_groups.have_fclub[i] = \"yes\"\n",
      "C:\\Users\\HILAL-PC\\AppData\\Local\\Temp/ipykernel_17196/3286742465.py:4: SettingWithCopyWarning: \n",
      "A value is trying to be set on a copy of a slice from a DataFrame\n",
      "\n",
      "See the caveats in the documentation: https://pandas.pydata.org/pandas-docs/stable/user_guide/indexing.html#returning-a-view-versus-a-copy\n",
      "  all_groups.have_fclub[i] = \"yes\"\n",
      "C:\\Users\\HILAL-PC\\AppData\\Local\\Temp/ipykernel_17196/3286742465.py:4: SettingWithCopyWarning: \n",
      "A value is trying to be set on a copy of a slice from a DataFrame\n",
      "\n",
      "See the caveats in the documentation: https://pandas.pydata.org/pandas-docs/stable/user_guide/indexing.html#returning-a-view-versus-a-copy\n",
      "  all_groups.have_fclub[i] = \"yes\"\n",
      "C:\\Users\\HILAL-PC\\AppData\\Local\\Temp/ipykernel_17196/3286742465.py:4: SettingWithCopyWarning: \n",
      "A value is trying to be set on a copy of a slice from a DataFrame\n",
      "\n",
      "See the caveats in the documentation: https://pandas.pydata.org/pandas-docs/stable/user_guide/indexing.html#returning-a-view-versus-a-copy\n",
      "  all_groups.have_fclub[i] = \"yes\"\n",
      "C:\\Users\\HILAL-PC\\AppData\\Local\\Temp/ipykernel_17196/3286742465.py:4: SettingWithCopyWarning: \n",
      "A value is trying to be set on a copy of a slice from a DataFrame\n",
      "\n",
      "See the caveats in the documentation: https://pandas.pydata.org/pandas-docs/stable/user_guide/indexing.html#returning-a-view-versus-a-copy\n",
      "  all_groups.have_fclub[i] = \"yes\"\n",
      "C:\\Users\\HILAL-PC\\AppData\\Local\\Temp/ipykernel_17196/3286742465.py:4: SettingWithCopyWarning: \n",
      "A value is trying to be set on a copy of a slice from a DataFrame\n",
      "\n",
      "See the caveats in the documentation: https://pandas.pydata.org/pandas-docs/stable/user_guide/indexing.html#returning-a-view-versus-a-copy\n",
      "  all_groups.have_fclub[i] = \"yes\"\n",
      "C:\\Users\\HILAL-PC\\AppData\\Local\\Temp/ipykernel_17196/3286742465.py:4: SettingWithCopyWarning: \n",
      "A value is trying to be set on a copy of a slice from a DataFrame\n",
      "\n",
      "See the caveats in the documentation: https://pandas.pydata.org/pandas-docs/stable/user_guide/indexing.html#returning-a-view-versus-a-copy\n",
      "  all_groups.have_fclub[i] = \"yes\"\n",
      "C:\\Users\\HILAL-PC\\AppData\\Local\\Temp/ipykernel_17196/3286742465.py:4: SettingWithCopyWarning: \n",
      "A value is trying to be set on a copy of a slice from a DataFrame\n",
      "\n",
      "See the caveats in the documentation: https://pandas.pydata.org/pandas-docs/stable/user_guide/indexing.html#returning-a-view-versus-a-copy\n",
      "  all_groups.have_fclub[i] = \"yes\"\n",
      "C:\\Users\\HILAL-PC\\AppData\\Local\\Temp/ipykernel_17196/3286742465.py:4: SettingWithCopyWarning: \n",
      "A value is trying to be set on a copy of a slice from a DataFrame\n",
      "\n",
      "See the caveats in the documentation: https://pandas.pydata.org/pandas-docs/stable/user_guide/indexing.html#returning-a-view-versus-a-copy\n",
      "  all_groups.have_fclub[i] = \"yes\"\n",
      "C:\\Users\\HILAL-PC\\AppData\\Local\\Temp/ipykernel_17196/3286742465.py:4: SettingWithCopyWarning: \n",
      "A value is trying to be set on a copy of a slice from a DataFrame\n",
      "\n",
      "See the caveats in the documentation: https://pandas.pydata.org/pandas-docs/stable/user_guide/indexing.html#returning-a-view-versus-a-copy\n",
      "  all_groups.have_fclub[i] = \"yes\"\n",
      "C:\\Users\\HILAL-PC\\AppData\\Local\\Temp/ipykernel_17196/3286742465.py:10: SettingWithCopyWarning: \n",
      "A value is trying to be set on a copy of a slice from a DataFrame\n",
      "\n",
      "See the caveats in the documentation: https://pandas.pydata.org/pandas-docs/stable/user_guide/indexing.html#returning-a-view-versus-a-copy\n",
      "  all_groups.Short[i] = \"yes\"\n",
      "C:\\Users\\HILAL-PC\\AppData\\Local\\Temp/ipykernel_17196/3286742465.py:10: SettingWithCopyWarning: \n",
      "A value is trying to be set on a copy of a slice from a DataFrame\n",
      "\n",
      "See the caveats in the documentation: https://pandas.pydata.org/pandas-docs/stable/user_guide/indexing.html#returning-a-view-versus-a-copy\n",
      "  all_groups.Short[i] = \"yes\"\n",
      "C:\\Users\\HILAL-PC\\AppData\\Local\\Temp/ipykernel_17196/3286742465.py:10: SettingWithCopyWarning: \n",
      "A value is trying to be set on a copy of a slice from a DataFrame\n",
      "\n",
      "See the caveats in the documentation: https://pandas.pydata.org/pandas-docs/stable/user_guide/indexing.html#returning-a-view-versus-a-copy\n",
      "  all_groups.Short[i] = \"yes\"\n",
      "C:\\Users\\HILAL-PC\\AppData\\Local\\Temp/ipykernel_17196/3286742465.py:10: SettingWithCopyWarning: \n",
      "A value is trying to be set on a copy of a slice from a DataFrame\n",
      "\n",
      "See the caveats in the documentation: https://pandas.pydata.org/pandas-docs/stable/user_guide/indexing.html#returning-a-view-versus-a-copy\n",
      "  all_groups.Short[i] = \"yes\"\n",
      "C:\\Users\\HILAL-PC\\AppData\\Local\\Temp/ipykernel_17196/3286742465.py:10: SettingWithCopyWarning: \n",
      "A value is trying to be set on a copy of a slice from a DataFrame\n",
      "\n",
      "See the caveats in the documentation: https://pandas.pydata.org/pandas-docs/stable/user_guide/indexing.html#returning-a-view-versus-a-copy\n",
      "  all_groups.Short[i] = \"yes\"\n",
      "C:\\Users\\HILAL-PC\\AppData\\Local\\Temp/ipykernel_17196/3286742465.py:10: SettingWithCopyWarning: \n",
      "A value is trying to be set on a copy of a slice from a DataFrame\n",
      "\n",
      "See the caveats in the documentation: https://pandas.pydata.org/pandas-docs/stable/user_guide/indexing.html#returning-a-view-versus-a-copy\n",
      "  all_groups.Short[i] = \"yes\"\n",
      "C:\\Users\\HILAL-PC\\AppData\\Local\\Temp/ipykernel_17196/3286742465.py:10: SettingWithCopyWarning: \n",
      "A value is trying to be set on a copy of a slice from a DataFrame\n",
      "\n",
      "See the caveats in the documentation: https://pandas.pydata.org/pandas-docs/stable/user_guide/indexing.html#returning-a-view-versus-a-copy\n",
      "  all_groups.Short[i] = \"yes\"\n",
      "C:\\Users\\HILAL-PC\\AppData\\Local\\Temp/ipykernel_17196/3286742465.py:10: SettingWithCopyWarning: \n",
      "A value is trying to be set on a copy of a slice from a DataFrame\n",
      "\n",
      "See the caveats in the documentation: https://pandas.pydata.org/pandas-docs/stable/user_guide/indexing.html#returning-a-view-versus-a-copy\n",
      "  all_groups.Short[i] = \"yes\"\n",
      "C:\\Users\\HILAL-PC\\AppData\\Local\\Temp/ipykernel_17196/3286742465.py:10: SettingWithCopyWarning: \n",
      "A value is trying to be set on a copy of a slice from a DataFrame\n",
      "\n",
      "See the caveats in the documentation: https://pandas.pydata.org/pandas-docs/stable/user_guide/indexing.html#returning-a-view-versus-a-copy\n",
      "  all_groups.Short[i] = \"yes\"\n",
      "C:\\Users\\HILAL-PC\\AppData\\Local\\Temp/ipykernel_17196/3286742465.py:10: SettingWithCopyWarning: \n",
      "A value is trying to be set on a copy of a slice from a DataFrame\n",
      "\n",
      "See the caveats in the documentation: https://pandas.pydata.org/pandas-docs/stable/user_guide/indexing.html#returning-a-view-versus-a-copy\n",
      "  all_groups.Short[i] = \"yes\"\n",
      "C:\\Users\\HILAL-PC\\AppData\\Local\\Temp/ipykernel_17196/3286742465.py:10: SettingWithCopyWarning: \n",
      "A value is trying to be set on a copy of a slice from a DataFrame\n",
      "\n",
      "See the caveats in the documentation: https://pandas.pydata.org/pandas-docs/stable/user_guide/indexing.html#returning-a-view-versus-a-copy\n",
      "  all_groups.Short[i] = \"yes\"\n",
      "C:\\Users\\HILAL-PC\\AppData\\Local\\Temp/ipykernel_17196/3286742465.py:10: SettingWithCopyWarning: \n",
      "A value is trying to be set on a copy of a slice from a DataFrame\n",
      "\n",
      "See the caveats in the documentation: https://pandas.pydata.org/pandas-docs/stable/user_guide/indexing.html#returning-a-view-versus-a-copy\n",
      "  all_groups.Short[i] = \"yes\"\n",
      "C:\\Users\\HILAL-PC\\AppData\\Local\\Temp/ipykernel_17196/3286742465.py:10: SettingWithCopyWarning: \n",
      "A value is trying to be set on a copy of a slice from a DataFrame\n",
      "\n",
      "See the caveats in the documentation: https://pandas.pydata.org/pandas-docs/stable/user_guide/indexing.html#returning-a-view-versus-a-copy\n",
      "  all_groups.Short[i] = \"yes\"\n",
      "C:\\Users\\HILAL-PC\\AppData\\Local\\Temp/ipykernel_17196/3286742465.py:10: SettingWithCopyWarning: \n",
      "A value is trying to be set on a copy of a slice from a DataFrame\n",
      "\n",
      "See the caveats in the documentation: https://pandas.pydata.org/pandas-docs/stable/user_guide/indexing.html#returning-a-view-versus-a-copy\n",
      "  all_groups.Short[i] = \"yes\"\n",
      "C:\\Users\\HILAL-PC\\AppData\\Local\\Temp/ipykernel_17196/3286742465.py:10: SettingWithCopyWarning: \n",
      "A value is trying to be set on a copy of a slice from a DataFrame\n",
      "\n",
      "See the caveats in the documentation: https://pandas.pydata.org/pandas-docs/stable/user_guide/indexing.html#returning-a-view-versus-a-copy\n",
      "  all_groups.Short[i] = \"yes\"\n",
      "C:\\Users\\HILAL-PC\\AppData\\Local\\Temp/ipykernel_17196/3286742465.py:10: SettingWithCopyWarning: \n",
      "A value is trying to be set on a copy of a slice from a DataFrame\n",
      "\n",
      "See the caveats in the documentation: https://pandas.pydata.org/pandas-docs/stable/user_guide/indexing.html#returning-a-view-versus-a-copy\n",
      "  all_groups.Short[i] = \"yes\"\n",
      "C:\\Users\\HILAL-PC\\AppData\\Local\\Temp/ipykernel_17196/3286742465.py:10: SettingWithCopyWarning: \n",
      "A value is trying to be set on a copy of a slice from a DataFrame\n",
      "\n",
      "See the caveats in the documentation: https://pandas.pydata.org/pandas-docs/stable/user_guide/indexing.html#returning-a-view-versus-a-copy\n",
      "  all_groups.Short[i] = \"yes\"\n",
      "C:\\Users\\HILAL-PC\\AppData\\Local\\Temp/ipykernel_17196/3286742465.py:10: SettingWithCopyWarning: \n",
      "A value is trying to be set on a copy of a slice from a DataFrame\n",
      "\n",
      "See the caveats in the documentation: https://pandas.pydata.org/pandas-docs/stable/user_guide/indexing.html#returning-a-view-versus-a-copy\n",
      "  all_groups.Short[i] = \"yes\"\n",
      "C:\\Users\\HILAL-PC\\AppData\\Local\\Temp/ipykernel_17196/3286742465.py:10: SettingWithCopyWarning: \n",
      "A value is trying to be set on a copy of a slice from a DataFrame\n",
      "\n",
      "See the caveats in the documentation: https://pandas.pydata.org/pandas-docs/stable/user_guide/indexing.html#returning-a-view-versus-a-copy\n",
      "  all_groups.Short[i] = \"yes\"\n",
      "C:\\Users\\HILAL-PC\\AppData\\Local\\Temp/ipykernel_17196/3286742465.py:10: SettingWithCopyWarning: \n",
      "A value is trying to be set on a copy of a slice from a DataFrame\n",
      "\n",
      "See the caveats in the documentation: https://pandas.pydata.org/pandas-docs/stable/user_guide/indexing.html#returning-a-view-versus-a-copy\n",
      "  all_groups.Short[i] = \"yes\"\n",
      "C:\\Users\\HILAL-PC\\AppData\\Local\\Temp/ipykernel_17196/3286742465.py:10: SettingWithCopyWarning: \n",
      "A value is trying to be set on a copy of a slice from a DataFrame\n",
      "\n",
      "See the caveats in the documentation: https://pandas.pydata.org/pandas-docs/stable/user_guide/indexing.html#returning-a-view-versus-a-copy\n",
      "  all_groups.Short[i] = \"yes\"\n",
      "C:\\Users\\HILAL-PC\\AppData\\Local\\Temp/ipykernel_17196/3286742465.py:10: SettingWithCopyWarning: \n",
      "A value is trying to be set on a copy of a slice from a DataFrame\n",
      "\n",
      "See the caveats in the documentation: https://pandas.pydata.org/pandas-docs/stable/user_guide/indexing.html#returning-a-view-versus-a-copy\n",
      "  all_groups.Short[i] = \"yes\"\n",
      "C:\\Users\\HILAL-PC\\AppData\\Local\\Temp/ipykernel_17196/3286742465.py:10: SettingWithCopyWarning: \n",
      "A value is trying to be set on a copy of a slice from a DataFrame\n",
      "\n",
      "See the caveats in the documentation: https://pandas.pydata.org/pandas-docs/stable/user_guide/indexing.html#returning-a-view-versus-a-copy\n",
      "  all_groups.Short[i] = \"yes\"\n",
      "C:\\Users\\HILAL-PC\\AppData\\Local\\Temp/ipykernel_17196/3286742465.py:10: SettingWithCopyWarning: \n",
      "A value is trying to be set on a copy of a slice from a DataFrame\n",
      "\n",
      "See the caveats in the documentation: https://pandas.pydata.org/pandas-docs/stable/user_guide/indexing.html#returning-a-view-versus-a-copy\n",
      "  all_groups.Short[i] = \"yes\"\n",
      "C:\\Users\\HILAL-PC\\AppData\\Local\\Temp/ipykernel_17196/3286742465.py:10: SettingWithCopyWarning: \n",
      "A value is trying to be set on a copy of a slice from a DataFrame\n",
      "\n",
      "See the caveats in the documentation: https://pandas.pydata.org/pandas-docs/stable/user_guide/indexing.html#returning-a-view-versus-a-copy\n",
      "  all_groups.Short[i] = \"yes\"\n",
      "C:\\Users\\HILAL-PC\\AppData\\Local\\Temp/ipykernel_17196/3286742465.py:10: SettingWithCopyWarning: \n",
      "A value is trying to be set on a copy of a slice from a DataFrame\n",
      "\n",
      "See the caveats in the documentation: https://pandas.pydata.org/pandas-docs/stable/user_guide/indexing.html#returning-a-view-versus-a-copy\n",
      "  all_groups.Short[i] = \"yes\"\n",
      "C:\\Users\\HILAL-PC\\AppData\\Local\\Temp/ipykernel_17196/3286742465.py:10: SettingWithCopyWarning: \n",
      "A value is trying to be set on a copy of a slice from a DataFrame\n",
      "\n",
      "See the caveats in the documentation: https://pandas.pydata.org/pandas-docs/stable/user_guide/indexing.html#returning-a-view-versus-a-copy\n",
      "  all_groups.Short[i] = \"yes\"\n",
      "C:\\Users\\HILAL-PC\\AppData\\Local\\Temp/ipykernel_17196/3286742465.py:10: SettingWithCopyWarning: \n",
      "A value is trying to be set on a copy of a slice from a DataFrame\n",
      "\n",
      "See the caveats in the documentation: https://pandas.pydata.org/pandas-docs/stable/user_guide/indexing.html#returning-a-view-versus-a-copy\n",
      "  all_groups.Short[i] = \"yes\"\n",
      "C:\\Users\\HILAL-PC\\AppData\\Local\\Temp/ipykernel_17196/3286742465.py:10: SettingWithCopyWarning: \n",
      "A value is trying to be set on a copy of a slice from a DataFrame\n",
      "\n",
      "See the caveats in the documentation: https://pandas.pydata.org/pandas-docs/stable/user_guide/indexing.html#returning-a-view-versus-a-copy\n",
      "  all_groups.Short[i] = \"yes\"\n",
      "C:\\Users\\HILAL-PC\\AppData\\Local\\Temp/ipykernel_17196/3286742465.py:10: SettingWithCopyWarning: \n",
      "A value is trying to be set on a copy of a slice from a DataFrame\n",
      "\n",
      "See the caveats in the documentation: https://pandas.pydata.org/pandas-docs/stable/user_guide/indexing.html#returning-a-view-versus-a-copy\n",
      "  all_groups.Short[i] = \"yes\"\n",
      "C:\\Users\\HILAL-PC\\AppData\\Local\\Temp/ipykernel_17196/3286742465.py:10: SettingWithCopyWarning: \n",
      "A value is trying to be set on a copy of a slice from a DataFrame\n",
      "\n",
      "See the caveats in the documentation: https://pandas.pydata.org/pandas-docs/stable/user_guide/indexing.html#returning-a-view-versus-a-copy\n",
      "  all_groups.Short[i] = \"yes\"\n",
      "C:\\Users\\HILAL-PC\\AppData\\Local\\Temp/ipykernel_17196/3286742465.py:10: SettingWithCopyWarning: \n",
      "A value is trying to be set on a copy of a slice from a DataFrame\n",
      "\n",
      "See the caveats in the documentation: https://pandas.pydata.org/pandas-docs/stable/user_guide/indexing.html#returning-a-view-versus-a-copy\n",
      "  all_groups.Short[i] = \"yes\"\n",
      "C:\\Users\\HILAL-PC\\AppData\\Local\\Temp/ipykernel_17196/3286742465.py:10: SettingWithCopyWarning: \n",
      "A value is trying to be set on a copy of a slice from a DataFrame\n",
      "\n",
      "See the caveats in the documentation: https://pandas.pydata.org/pandas-docs/stable/user_guide/indexing.html#returning-a-view-versus-a-copy\n",
      "  all_groups.Short[i] = \"yes\"\n",
      "C:\\Users\\HILAL-PC\\AppData\\Local\\Temp/ipykernel_17196/3286742465.py:10: SettingWithCopyWarning: \n",
      "A value is trying to be set on a copy of a slice from a DataFrame\n",
      "\n",
      "See the caveats in the documentation: https://pandas.pydata.org/pandas-docs/stable/user_guide/indexing.html#returning-a-view-versus-a-copy\n",
      "  all_groups.Short[i] = \"yes\"\n",
      "C:\\Users\\HILAL-PC\\AppData\\Local\\Temp/ipykernel_17196/3286742465.py:10: SettingWithCopyWarning: \n",
      "A value is trying to be set on a copy of a slice from a DataFrame\n",
      "\n",
      "See the caveats in the documentation: https://pandas.pydata.org/pandas-docs/stable/user_guide/indexing.html#returning-a-view-versus-a-copy\n",
      "  all_groups.Short[i] = \"yes\"\n",
      "C:\\Users\\HILAL-PC\\AppData\\Local\\Temp/ipykernel_17196/3286742465.py:10: SettingWithCopyWarning: \n",
      "A value is trying to be set on a copy of a slice from a DataFrame\n",
      "\n",
      "See the caveats in the documentation: https://pandas.pydata.org/pandas-docs/stable/user_guide/indexing.html#returning-a-view-versus-a-copy\n",
      "  all_groups.Short[i] = \"yes\"\n",
      "C:\\Users\\HILAL-PC\\AppData\\Local\\Temp/ipykernel_17196/3286742465.py:10: SettingWithCopyWarning: \n",
      "A value is trying to be set on a copy of a slice from a DataFrame\n",
      "\n",
      "See the caveats in the documentation: https://pandas.pydata.org/pandas-docs/stable/user_guide/indexing.html#returning-a-view-versus-a-copy\n",
      "  all_groups.Short[i] = \"yes\"\n",
      "C:\\Users\\HILAL-PC\\AppData\\Local\\Temp/ipykernel_17196/3286742465.py:10: SettingWithCopyWarning: \n",
      "A value is trying to be set on a copy of a slice from a DataFrame\n",
      "\n",
      "See the caveats in the documentation: https://pandas.pydata.org/pandas-docs/stable/user_guide/indexing.html#returning-a-view-versus-a-copy\n",
      "  all_groups.Short[i] = \"yes\"\n",
      "C:\\Users\\HILAL-PC\\AppData\\Local\\Temp/ipykernel_17196/3286742465.py:10: SettingWithCopyWarning: \n",
      "A value is trying to be set on a copy of a slice from a DataFrame\n",
      "\n",
      "See the caveats in the documentation: https://pandas.pydata.org/pandas-docs/stable/user_guide/indexing.html#returning-a-view-versus-a-copy\n",
      "  all_groups.Short[i] = \"yes\"\n",
      "C:\\Users\\HILAL-PC\\AppData\\Local\\Temp/ipykernel_17196/3286742465.py:10: SettingWithCopyWarning: \n",
      "A value is trying to be set on a copy of a slice from a DataFrame\n",
      "\n",
      "See the caveats in the documentation: https://pandas.pydata.org/pandas-docs/stable/user_guide/indexing.html#returning-a-view-versus-a-copy\n",
      "  all_groups.Short[i] = \"yes\"\n",
      "C:\\Users\\HILAL-PC\\AppData\\Local\\Temp/ipykernel_17196/3286742465.py:10: SettingWithCopyWarning: \n",
      "A value is trying to be set on a copy of a slice from a DataFrame\n",
      "\n",
      "See the caveats in the documentation: https://pandas.pydata.org/pandas-docs/stable/user_guide/indexing.html#returning-a-view-versus-a-copy\n",
      "  all_groups.Short[i] = \"yes\"\n",
      "C:\\Users\\HILAL-PC\\AppData\\Local\\Temp/ipykernel_17196/3286742465.py:10: SettingWithCopyWarning: \n",
      "A value is trying to be set on a copy of a slice from a DataFrame\n",
      "\n",
      "See the caveats in the documentation: https://pandas.pydata.org/pandas-docs/stable/user_guide/indexing.html#returning-a-view-versus-a-copy\n",
      "  all_groups.Short[i] = \"yes\"\n",
      "C:\\Users\\HILAL-PC\\AppData\\Local\\Temp/ipykernel_17196/3286742465.py:10: SettingWithCopyWarning: \n",
      "A value is trying to be set on a copy of a slice from a DataFrame\n",
      "\n",
      "See the caveats in the documentation: https://pandas.pydata.org/pandas-docs/stable/user_guide/indexing.html#returning-a-view-versus-a-copy\n",
      "  all_groups.Short[i] = \"yes\"\n",
      "C:\\Users\\HILAL-PC\\AppData\\Local\\Temp/ipykernel_17196/3286742465.py:10: SettingWithCopyWarning: \n",
      "A value is trying to be set on a copy of a slice from a DataFrame\n",
      "\n",
      "See the caveats in the documentation: https://pandas.pydata.org/pandas-docs/stable/user_guide/indexing.html#returning-a-view-versus-a-copy\n",
      "  all_groups.Short[i] = \"yes\"\n",
      "C:\\Users\\HILAL-PC\\AppData\\Local\\Temp/ipykernel_17196/3286742465.py:10: SettingWithCopyWarning: \n",
      "A value is trying to be set on a copy of a slice from a DataFrame\n",
      "\n",
      "See the caveats in the documentation: https://pandas.pydata.org/pandas-docs/stable/user_guide/indexing.html#returning-a-view-versus-a-copy\n",
      "  all_groups.Short[i] = \"yes\"\n",
      "C:\\Users\\HILAL-PC\\AppData\\Local\\Temp/ipykernel_17196/3286742465.py:10: SettingWithCopyWarning: \n",
      "A value is trying to be set on a copy of a slice from a DataFrame\n",
      "\n",
      "See the caveats in the documentation: https://pandas.pydata.org/pandas-docs/stable/user_guide/indexing.html#returning-a-view-versus-a-copy\n",
      "  all_groups.Short[i] = \"yes\"\n",
      "C:\\Users\\HILAL-PC\\AppData\\Local\\Temp/ipykernel_17196/3286742465.py:10: SettingWithCopyWarning: \n",
      "A value is trying to be set on a copy of a slice from a DataFrame\n",
      "\n",
      "See the caveats in the documentation: https://pandas.pydata.org/pandas-docs/stable/user_guide/indexing.html#returning-a-view-versus-a-copy\n",
      "  all_groups.Short[i] = \"yes\"\n",
      "C:\\Users\\HILAL-PC\\AppData\\Local\\Temp/ipykernel_17196/3286742465.py:10: SettingWithCopyWarning: \n",
      "A value is trying to be set on a copy of a slice from a DataFrame\n",
      "\n",
      "See the caveats in the documentation: https://pandas.pydata.org/pandas-docs/stable/user_guide/indexing.html#returning-a-view-versus-a-copy\n",
      "  all_groups.Short[i] = \"yes\"\n",
      "C:\\Users\\HILAL-PC\\AppData\\Local\\Temp/ipykernel_17196/3286742465.py:10: SettingWithCopyWarning: \n",
      "A value is trying to be set on a copy of a slice from a DataFrame\n",
      "\n",
      "See the caveats in the documentation: https://pandas.pydata.org/pandas-docs/stable/user_guide/indexing.html#returning-a-view-versus-a-copy\n",
      "  all_groups.Short[i] = \"yes\"\n",
      "C:\\Users\\HILAL-PC\\AppData\\Local\\Temp/ipykernel_17196/3286742465.py:10: SettingWithCopyWarning: \n",
      "A value is trying to be set on a copy of a slice from a DataFrame\n",
      "\n",
      "See the caveats in the documentation: https://pandas.pydata.org/pandas-docs/stable/user_guide/indexing.html#returning-a-view-versus-a-copy\n",
      "  all_groups.Short[i] = \"yes\"\n",
      "C:\\Users\\HILAL-PC\\AppData\\Local\\Temp/ipykernel_17196/3286742465.py:10: SettingWithCopyWarning: \n",
      "A value is trying to be set on a copy of a slice from a DataFrame\n",
      "\n",
      "See the caveats in the documentation: https://pandas.pydata.org/pandas-docs/stable/user_guide/indexing.html#returning-a-view-versus-a-copy\n",
      "  all_groups.Short[i] = \"yes\"\n",
      "C:\\Users\\HILAL-PC\\AppData\\Local\\Temp/ipykernel_17196/3286742465.py:10: SettingWithCopyWarning: \n",
      "A value is trying to be set on a copy of a slice from a DataFrame\n",
      "\n",
      "See the caveats in the documentation: https://pandas.pydata.org/pandas-docs/stable/user_guide/indexing.html#returning-a-view-versus-a-copy\n",
      "  all_groups.Short[i] = \"yes\"\n",
      "C:\\Users\\HILAL-PC\\AppData\\Local\\Temp/ipykernel_17196/3286742465.py:10: SettingWithCopyWarning: \n",
      "A value is trying to be set on a copy of a slice from a DataFrame\n",
      "\n",
      "See the caveats in the documentation: https://pandas.pydata.org/pandas-docs/stable/user_guide/indexing.html#returning-a-view-versus-a-copy\n",
      "  all_groups.Short[i] = \"yes\"\n",
      "C:\\Users\\HILAL-PC\\AppData\\Local\\Temp/ipykernel_17196/3286742465.py:10: SettingWithCopyWarning: \n",
      "A value is trying to be set on a copy of a slice from a DataFrame\n",
      "\n",
      "See the caveats in the documentation: https://pandas.pydata.org/pandas-docs/stable/user_guide/indexing.html#returning-a-view-versus-a-copy\n",
      "  all_groups.Short[i] = \"yes\"\n",
      "C:\\Users\\HILAL-PC\\AppData\\Local\\Temp/ipykernel_17196/3286742465.py:10: SettingWithCopyWarning: \n",
      "A value is trying to be set on a copy of a slice from a DataFrame\n",
      "\n",
      "See the caveats in the documentation: https://pandas.pydata.org/pandas-docs/stable/user_guide/indexing.html#returning-a-view-versus-a-copy\n",
      "  all_groups.Short[i] = \"yes\"\n"
     ]
    }
   ],
   "source": [
    "i=0\n",
    "for x in all_groups.have_fclub:\n",
    "    if x != 'no':\n",
    "        all_groups.have_fclub[i] = \"yes\"\n",
    "    i+=1\n",
    "    \n",
    "i=0\n",
    "for x in all_groups.Short:\n",
    "    if x != 'no':\n",
    "        all_groups.Short[i] = \"yes\"\n",
    "    i+=1"
   ]
  },
  {
   "cell_type": "code",
   "execution_count": 31,
   "id": "c1e8e49b",
   "metadata": {},
   "outputs": [
    {
     "data": {
      "text/html": [
       "<div>\n",
       "<style scoped>\n",
       "    .dataframe tbody tr th:only-of-type {\n",
       "        vertical-align: middle;\n",
       "    }\n",
       "\n",
       "    .dataframe tbody tr th {\n",
       "        vertical-align: top;\n",
       "    }\n",
       "\n",
       "    .dataframe thead th {\n",
       "        text-align: right;\n",
       "    }\n",
       "</style>\n",
       "<table border=\"1\" class=\"dataframe\">\n",
       "  <thead>\n",
       "    <tr style=\"text-align: right;\">\n",
       "      <th></th>\n",
       "      <th>Name</th>\n",
       "      <th>Short</th>\n",
       "      <th>Debut</th>\n",
       "      <th>gender</th>\n",
       "      <th>Company</th>\n",
       "      <th>Members</th>\n",
       "      <th>org_member</th>\n",
       "      <th>have_fclub</th>\n",
       "      <th>Active</th>\n",
       "    </tr>\n",
       "  </thead>\n",
       "  <tbody>\n",
       "    <tr>\n",
       "      <th>0</th>\n",
       "      <td>(G)I-DLE</td>\n",
       "      <td>no</td>\n",
       "      <td>2018-05-02</td>\n",
       "      <td>female</td>\n",
       "      <td>Cube</td>\n",
       "      <td>6</td>\n",
       "      <td>6</td>\n",
       "      <td>no</td>\n",
       "      <td>Yes</td>\n",
       "    </tr>\n",
       "    <tr>\n",
       "      <th>1</th>\n",
       "      <td>15&amp;</td>\n",
       "      <td>no</td>\n",
       "      <td>2012-10-05</td>\n",
       "      <td>female</td>\n",
       "      <td>JYP</td>\n",
       "      <td>2</td>\n",
       "      <td>2</td>\n",
       "      <td>no</td>\n",
       "      <td>No</td>\n",
       "    </tr>\n",
       "    <tr>\n",
       "      <th>2</th>\n",
       "      <td>2EYES</td>\n",
       "      <td>no</td>\n",
       "      <td>2013-07-20</td>\n",
       "      <td>female</td>\n",
       "      <td>SidusHQ</td>\n",
       "      <td>4</td>\n",
       "      <td>5</td>\n",
       "      <td>no</td>\n",
       "      <td>No</td>\n",
       "    </tr>\n",
       "    <tr>\n",
       "      <th>3</th>\n",
       "      <td>2NE1</td>\n",
       "      <td>no</td>\n",
       "      <td>2009-05-06</td>\n",
       "      <td>female</td>\n",
       "      <td>YG</td>\n",
       "      <td>4</td>\n",
       "      <td>4</td>\n",
       "      <td>yes</td>\n",
       "      <td>No</td>\n",
       "    </tr>\n",
       "    <tr>\n",
       "      <th>4</th>\n",
       "      <td>3YE</td>\n",
       "      <td>no</td>\n",
       "      <td>2019-05-21</td>\n",
       "      <td>female</td>\n",
       "      <td>GH</td>\n",
       "      <td>3</td>\n",
       "      <td>3</td>\n",
       "      <td>no</td>\n",
       "      <td>Yes</td>\n",
       "    </tr>\n",
       "    <tr>\n",
       "      <th>...</th>\n",
       "      <td>...</td>\n",
       "      <td>...</td>\n",
       "      <td>...</td>\n",
       "      <td>...</td>\n",
       "      <td>...</td>\n",
       "      <td>...</td>\n",
       "      <td>...</td>\n",
       "      <td>...</td>\n",
       "      <td>...</td>\n",
       "    </tr>\n",
       "    <tr>\n",
       "      <th>142</th>\n",
       "      <td>VROMANCE</td>\n",
       "      <td>no</td>\n",
       "      <td>2016-06-12</td>\n",
       "      <td>male</td>\n",
       "      <td>RBW</td>\n",
       "      <td>4</td>\n",
       "      <td>4</td>\n",
       "      <td>no</td>\n",
       "      <td>Yes</td>\n",
       "    </tr>\n",
       "    <tr>\n",
       "      <th>143</th>\n",
       "      <td>Wanna One</td>\n",
       "      <td>no</td>\n",
       "      <td>2017-08-07</td>\n",
       "      <td>male</td>\n",
       "      <td>YMC</td>\n",
       "      <td>11</td>\n",
       "      <td>11</td>\n",
       "      <td>Wannable</td>\n",
       "      <td>No</td>\n",
       "    </tr>\n",
       "    <tr>\n",
       "      <th>144</th>\n",
       "      <td>We In The Zone</td>\n",
       "      <td>no</td>\n",
       "      <td>2019-05-27</td>\n",
       "      <td>male</td>\n",
       "      <td>Choon</td>\n",
       "      <td>5</td>\n",
       "      <td>5</td>\n",
       "      <td>no</td>\n",
       "      <td>Yes</td>\n",
       "    </tr>\n",
       "    <tr>\n",
       "      <th>145</th>\n",
       "      <td>WINNER</td>\n",
       "      <td>no</td>\n",
       "      <td>2014-08-12</td>\n",
       "      <td>male</td>\n",
       "      <td>YG</td>\n",
       "      <td>4</td>\n",
       "      <td>5</td>\n",
       "      <td>yes</td>\n",
       "      <td>Yes</td>\n",
       "    </tr>\n",
       "    <tr>\n",
       "      <th>146</th>\n",
       "      <td>ZE:A</td>\n",
       "      <td>no</td>\n",
       "      <td>2010-01-07</td>\n",
       "      <td>male</td>\n",
       "      <td>Star Empire</td>\n",
       "      <td>9</td>\n",
       "      <td>9</td>\n",
       "      <td>ZE:A Style</td>\n",
       "      <td>Hiatus</td>\n",
       "    </tr>\n",
       "  </tbody>\n",
       "</table>\n",
       "<p>299 rows × 9 columns</p>\n",
       "</div>"
      ],
      "text/plain": [
       "               Name Short       Debut  gender      Company  Members  \\\n",
       "0          (G)I-DLE    no  2018-05-02  female         Cube        6   \n",
       "1               15&    no  2012-10-05  female          JYP        2   \n",
       "2             2EYES    no  2013-07-20  female      SidusHQ        4   \n",
       "3              2NE1    no  2009-05-06  female           YG        4   \n",
       "4               3YE    no  2019-05-21  female           GH        3   \n",
       "..              ...   ...         ...     ...          ...      ...   \n",
       "142        VROMANCE    no  2016-06-12    male          RBW        4   \n",
       "143       Wanna One    no  2017-08-07    male          YMC       11   \n",
       "144  We In The Zone    no  2019-05-27    male        Choon        5   \n",
       "145          WINNER    no  2014-08-12    male           YG        4   \n",
       "146            ZE:A    no  2010-01-07    male  Star Empire        9   \n",
       "\n",
       "     org_member  have_fclub  Active  \n",
       "0             6          no     Yes  \n",
       "1             2          no      No  \n",
       "2             5          no      No  \n",
       "3             4         yes      No  \n",
       "4             3          no     Yes  \n",
       "..          ...         ...     ...  \n",
       "142           4          no     Yes  \n",
       "143          11    Wannable      No  \n",
       "144           5          no     Yes  \n",
       "145           5         yes     Yes  \n",
       "146           9  ZE:A Style  Hiatus  \n",
       "\n",
       "[299 rows x 9 columns]"
      ]
     },
     "execution_count": 31,
     "metadata": {},
     "output_type": "execute_result"
    }
   ],
   "source": [
    "all_groups"
   ]
  },
  {
   "cell_type": "code",
   "execution_count": 32,
   "id": "0d106bd1",
   "metadata": {},
   "outputs": [
    {
     "name": "stdout",
     "output_type": "stream",
     "text": [
      "<class 'pandas.core.frame.DataFrame'>\n",
      "Int64Index: 299 entries, 0 to 146\n",
      "Data columns (total 9 columns):\n",
      " #   Column      Non-Null Count  Dtype \n",
      "---  ------      --------------  ----- \n",
      " 0   Name        299 non-null    object\n",
      " 1   Short       299 non-null    object\n",
      " 2   Debut       299 non-null    object\n",
      " 3   gender      299 non-null    object\n",
      " 4   Company     298 non-null    object\n",
      " 5   Members     299 non-null    int64 \n",
      " 6   org_member  299 non-null    int64 \n",
      " 7   have_fclub  299 non-null    object\n",
      " 8   Active      299 non-null    object\n",
      "dtypes: int64(2), object(7)\n",
      "memory usage: 31.5+ KB\n"
     ]
    }
   ],
   "source": [
    "all_groups.info()"
   ]
  },
  {
   "cell_type": "code",
   "execution_count": 33,
   "id": "d863a043",
   "metadata": {},
   "outputs": [
    {
     "data": {
      "text/plain": [
       "Name          0\n",
       "Short         0\n",
       "Debut         0\n",
       "gender        0\n",
       "Company       1\n",
       "Members       0\n",
       "org_member    0\n",
       "have_fclub    0\n",
       "Active        0\n",
       "dtype: int64"
      ]
     },
     "execution_count": 33,
     "metadata": {},
     "output_type": "execute_result"
    }
   ],
   "source": [
    "all_groups.isnull().sum()"
   ]
  },
  {
   "cell_type": "code",
   "execution_count": 34,
   "id": "93d42bdb",
   "metadata": {},
   "outputs": [
    {
     "data": {
      "text/plain": [
       "Name          0\n",
       "Short         0\n",
       "Debut         0\n",
       "gender        0\n",
       "Company       1\n",
       "Members       0\n",
       "org_member    0\n",
       "have_fclub    0\n",
       "Active        0\n",
       "dtype: int64"
      ]
     },
     "execution_count": 34,
     "metadata": {},
     "output_type": "execute_result"
    }
   ],
   "source": [
    "all_groups.isnull().sum()"
   ]
  },
  {
   "cell_type": "code",
   "execution_count": 35,
   "id": "baa1a7c8",
   "metadata": {},
   "outputs": [
    {
     "data": {
      "text/plain": [
       "0      05\n",
       "1      10\n",
       "2      07\n",
       "3      05\n",
       "4      05\n",
       "       ..\n",
       "142    06\n",
       "143    08\n",
       "144    05\n",
       "145    08\n",
       "146    01\n",
       "Name: Debut, Length: 299, dtype: object"
      ]
     },
     "execution_count": 35,
     "metadata": {},
     "output_type": "execute_result"
    }
   ],
   "source": [
    "months = all_groups[\"Debut\"].apply(lambda x: x.split('-')[1])\n",
    "months"
   ]
  },
  {
   "cell_type": "code",
   "execution_count": 36,
   "id": "c414c1c8",
   "metadata": {},
   "outputs": [
    {
     "data": {
      "text/html": [
       "<div>\n",
       "<style scoped>\n",
       "    .dataframe tbody tr th:only-of-type {\n",
       "        vertical-align: middle;\n",
       "    }\n",
       "\n",
       "    .dataframe tbody tr th {\n",
       "        vertical-align: top;\n",
       "    }\n",
       "\n",
       "    .dataframe thead th {\n",
       "        text-align: right;\n",
       "    }\n",
       "</style>\n",
       "<table border=\"1\" class=\"dataframe\">\n",
       "  <thead>\n",
       "    <tr style=\"text-align: right;\">\n",
       "      <th></th>\n",
       "      <th>Name</th>\n",
       "      <th>Short</th>\n",
       "      <th>Debut</th>\n",
       "      <th>gender</th>\n",
       "      <th>debut_month</th>\n",
       "      <th>Company</th>\n",
       "      <th>Members</th>\n",
       "      <th>org_member</th>\n",
       "      <th>have_fclub</th>\n",
       "      <th>Active</th>\n",
       "    </tr>\n",
       "  </thead>\n",
       "  <tbody>\n",
       "    <tr>\n",
       "      <th>0</th>\n",
       "      <td>(G)I-DLE</td>\n",
       "      <td>no</td>\n",
       "      <td>2018-05-02</td>\n",
       "      <td>female</td>\n",
       "      <td>05</td>\n",
       "      <td>Cube</td>\n",
       "      <td>6</td>\n",
       "      <td>6</td>\n",
       "      <td>no</td>\n",
       "      <td>Yes</td>\n",
       "    </tr>\n",
       "    <tr>\n",
       "      <th>1</th>\n",
       "      <td>15&amp;</td>\n",
       "      <td>no</td>\n",
       "      <td>2012-10-05</td>\n",
       "      <td>female</td>\n",
       "      <td>10</td>\n",
       "      <td>JYP</td>\n",
       "      <td>2</td>\n",
       "      <td>2</td>\n",
       "      <td>no</td>\n",
       "      <td>No</td>\n",
       "    </tr>\n",
       "    <tr>\n",
       "      <th>2</th>\n",
       "      <td>2EYES</td>\n",
       "      <td>no</td>\n",
       "      <td>2013-07-20</td>\n",
       "      <td>female</td>\n",
       "      <td>07</td>\n",
       "      <td>SidusHQ</td>\n",
       "      <td>4</td>\n",
       "      <td>5</td>\n",
       "      <td>no</td>\n",
       "      <td>No</td>\n",
       "    </tr>\n",
       "    <tr>\n",
       "      <th>3</th>\n",
       "      <td>2NE1</td>\n",
       "      <td>no</td>\n",
       "      <td>2009-05-06</td>\n",
       "      <td>female</td>\n",
       "      <td>05</td>\n",
       "      <td>YG</td>\n",
       "      <td>4</td>\n",
       "      <td>4</td>\n",
       "      <td>yes</td>\n",
       "      <td>No</td>\n",
       "    </tr>\n",
       "    <tr>\n",
       "      <th>4</th>\n",
       "      <td>3YE</td>\n",
       "      <td>no</td>\n",
       "      <td>2019-05-21</td>\n",
       "      <td>female</td>\n",
       "      <td>05</td>\n",
       "      <td>GH</td>\n",
       "      <td>3</td>\n",
       "      <td>3</td>\n",
       "      <td>no</td>\n",
       "      <td>Yes</td>\n",
       "    </tr>\n",
       "    <tr>\n",
       "      <th>...</th>\n",
       "      <td>...</td>\n",
       "      <td>...</td>\n",
       "      <td>...</td>\n",
       "      <td>...</td>\n",
       "      <td>...</td>\n",
       "      <td>...</td>\n",
       "      <td>...</td>\n",
       "      <td>...</td>\n",
       "      <td>...</td>\n",
       "      <td>...</td>\n",
       "    </tr>\n",
       "    <tr>\n",
       "      <th>142</th>\n",
       "      <td>VROMANCE</td>\n",
       "      <td>no</td>\n",
       "      <td>2016-06-12</td>\n",
       "      <td>male</td>\n",
       "      <td>06</td>\n",
       "      <td>RBW</td>\n",
       "      <td>4</td>\n",
       "      <td>4</td>\n",
       "      <td>no</td>\n",
       "      <td>Yes</td>\n",
       "    </tr>\n",
       "    <tr>\n",
       "      <th>143</th>\n",
       "      <td>Wanna One</td>\n",
       "      <td>no</td>\n",
       "      <td>2017-08-07</td>\n",
       "      <td>male</td>\n",
       "      <td>08</td>\n",
       "      <td>YMC</td>\n",
       "      <td>11</td>\n",
       "      <td>11</td>\n",
       "      <td>Wannable</td>\n",
       "      <td>No</td>\n",
       "    </tr>\n",
       "    <tr>\n",
       "      <th>144</th>\n",
       "      <td>We In The Zone</td>\n",
       "      <td>no</td>\n",
       "      <td>2019-05-27</td>\n",
       "      <td>male</td>\n",
       "      <td>05</td>\n",
       "      <td>Choon</td>\n",
       "      <td>5</td>\n",
       "      <td>5</td>\n",
       "      <td>no</td>\n",
       "      <td>Yes</td>\n",
       "    </tr>\n",
       "    <tr>\n",
       "      <th>145</th>\n",
       "      <td>WINNER</td>\n",
       "      <td>no</td>\n",
       "      <td>2014-08-12</td>\n",
       "      <td>male</td>\n",
       "      <td>08</td>\n",
       "      <td>YG</td>\n",
       "      <td>4</td>\n",
       "      <td>5</td>\n",
       "      <td>yes</td>\n",
       "      <td>Yes</td>\n",
       "    </tr>\n",
       "    <tr>\n",
       "      <th>146</th>\n",
       "      <td>ZE:A</td>\n",
       "      <td>no</td>\n",
       "      <td>2010-01-07</td>\n",
       "      <td>male</td>\n",
       "      <td>01</td>\n",
       "      <td>Star Empire</td>\n",
       "      <td>9</td>\n",
       "      <td>9</td>\n",
       "      <td>ZE:A Style</td>\n",
       "      <td>Hiatus</td>\n",
       "    </tr>\n",
       "  </tbody>\n",
       "</table>\n",
       "<p>299 rows × 10 columns</p>\n",
       "</div>"
      ],
      "text/plain": [
       "               Name Short       Debut  gender debut_month      Company  \\\n",
       "0          (G)I-DLE    no  2018-05-02  female          05         Cube   \n",
       "1               15&    no  2012-10-05  female          10          JYP   \n",
       "2             2EYES    no  2013-07-20  female          07      SidusHQ   \n",
       "3              2NE1    no  2009-05-06  female          05           YG   \n",
       "4               3YE    no  2019-05-21  female          05           GH   \n",
       "..              ...   ...         ...     ...         ...          ...   \n",
       "142        VROMANCE    no  2016-06-12    male          06          RBW   \n",
       "143       Wanna One    no  2017-08-07    male          08          YMC   \n",
       "144  We In The Zone    no  2019-05-27    male          05        Choon   \n",
       "145          WINNER    no  2014-08-12    male          08           YG   \n",
       "146            ZE:A    no  2010-01-07    male          01  Star Empire   \n",
       "\n",
       "     Members  org_member  have_fclub  Active  \n",
       "0          6           6          no     Yes  \n",
       "1          2           2          no      No  \n",
       "2          4           5          no      No  \n",
       "3          4           4         yes      No  \n",
       "4          3           3          no     Yes  \n",
       "..       ...         ...         ...     ...  \n",
       "142        4           4          no     Yes  \n",
       "143       11          11    Wannable      No  \n",
       "144        5           5          no     Yes  \n",
       "145        4           5         yes     Yes  \n",
       "146        9           9  ZE:A Style  Hiatus  \n",
       "\n",
       "[299 rows x 10 columns]"
      ]
     },
     "execution_count": 36,
     "metadata": {},
     "output_type": "execute_result"
    }
   ],
   "source": [
    "all_groups.insert(4,\"debut_month\",months)\n",
    "all_groups"
   ]
  },
  {
   "cell_type": "code",
   "execution_count": 37,
   "id": "6d072cca",
   "metadata": {},
   "outputs": [
    {
     "data": {
      "text/plain": [
       "0      2018\n",
       "1      2012\n",
       "2      2013\n",
       "3      2009\n",
       "4      2019\n",
       "       ... \n",
       "142    2016\n",
       "143    2017\n",
       "144    2019\n",
       "145    2014\n",
       "146    2010\n",
       "Name: Debut, Length: 299, dtype: object"
      ]
     },
     "execution_count": 37,
     "metadata": {},
     "output_type": "execute_result"
    }
   ],
   "source": [
    "all_groups[\"Debut\"] = all_groups[\"Debut\"].apply(lambda x: x.split('-')[0])\n",
    "all_groups[\"Debut\"]"
   ]
  },
  {
   "cell_type": "code",
   "execution_count": 38,
   "id": "1fad746c",
   "metadata": {},
   "outputs": [],
   "source": [
    "all_groups= all_groups.rename(columns={\n",
    "    \"Debut\":\"debut_year\"\n",
    "})"
   ]
  },
  {
   "cell_type": "code",
   "execution_count": 39,
   "id": "607f231d",
   "metadata": {},
   "outputs": [
    {
     "data": {
      "text/html": [
       "<div>\n",
       "<style scoped>\n",
       "    .dataframe tbody tr th:only-of-type {\n",
       "        vertical-align: middle;\n",
       "    }\n",
       "\n",
       "    .dataframe tbody tr th {\n",
       "        vertical-align: top;\n",
       "    }\n",
       "\n",
       "    .dataframe thead th {\n",
       "        text-align: right;\n",
       "    }\n",
       "</style>\n",
       "<table border=\"1\" class=\"dataframe\">\n",
       "  <thead>\n",
       "    <tr style=\"text-align: right;\">\n",
       "      <th></th>\n",
       "      <th>Name</th>\n",
       "      <th>Short</th>\n",
       "      <th>debut_year</th>\n",
       "      <th>gender</th>\n",
       "      <th>debut_month</th>\n",
       "      <th>Company</th>\n",
       "      <th>Members</th>\n",
       "      <th>org_member</th>\n",
       "      <th>have_fclub</th>\n",
       "      <th>Active</th>\n",
       "    </tr>\n",
       "  </thead>\n",
       "  <tbody>\n",
       "    <tr>\n",
       "      <th>0</th>\n",
       "      <td>(G)I-DLE</td>\n",
       "      <td>no</td>\n",
       "      <td>2018</td>\n",
       "      <td>female</td>\n",
       "      <td>05</td>\n",
       "      <td>Cube</td>\n",
       "      <td>6</td>\n",
       "      <td>6</td>\n",
       "      <td>no</td>\n",
       "      <td>Yes</td>\n",
       "    </tr>\n",
       "    <tr>\n",
       "      <th>1</th>\n",
       "      <td>15&amp;</td>\n",
       "      <td>no</td>\n",
       "      <td>2012</td>\n",
       "      <td>female</td>\n",
       "      <td>10</td>\n",
       "      <td>JYP</td>\n",
       "      <td>2</td>\n",
       "      <td>2</td>\n",
       "      <td>no</td>\n",
       "      <td>No</td>\n",
       "    </tr>\n",
       "    <tr>\n",
       "      <th>2</th>\n",
       "      <td>2EYES</td>\n",
       "      <td>no</td>\n",
       "      <td>2013</td>\n",
       "      <td>female</td>\n",
       "      <td>07</td>\n",
       "      <td>SidusHQ</td>\n",
       "      <td>4</td>\n",
       "      <td>5</td>\n",
       "      <td>no</td>\n",
       "      <td>No</td>\n",
       "    </tr>\n",
       "    <tr>\n",
       "      <th>3</th>\n",
       "      <td>2NE1</td>\n",
       "      <td>no</td>\n",
       "      <td>2009</td>\n",
       "      <td>female</td>\n",
       "      <td>05</td>\n",
       "      <td>YG</td>\n",
       "      <td>4</td>\n",
       "      <td>4</td>\n",
       "      <td>yes</td>\n",
       "      <td>No</td>\n",
       "    </tr>\n",
       "    <tr>\n",
       "      <th>4</th>\n",
       "      <td>3YE</td>\n",
       "      <td>no</td>\n",
       "      <td>2019</td>\n",
       "      <td>female</td>\n",
       "      <td>05</td>\n",
       "      <td>GH</td>\n",
       "      <td>3</td>\n",
       "      <td>3</td>\n",
       "      <td>no</td>\n",
       "      <td>Yes</td>\n",
       "    </tr>\n",
       "    <tr>\n",
       "      <th>...</th>\n",
       "      <td>...</td>\n",
       "      <td>...</td>\n",
       "      <td>...</td>\n",
       "      <td>...</td>\n",
       "      <td>...</td>\n",
       "      <td>...</td>\n",
       "      <td>...</td>\n",
       "      <td>...</td>\n",
       "      <td>...</td>\n",
       "      <td>...</td>\n",
       "    </tr>\n",
       "    <tr>\n",
       "      <th>147</th>\n",
       "      <td>We Girls</td>\n",
       "      <td>no</td>\n",
       "      <td>2018</td>\n",
       "      <td>female</td>\n",
       "      <td>08</td>\n",
       "      <td>Afternoon</td>\n",
       "      <td>8</td>\n",
       "      <td>8</td>\n",
       "      <td>no</td>\n",
       "      <td>Yes</td>\n",
       "    </tr>\n",
       "    <tr>\n",
       "      <th>148</th>\n",
       "      <td>Weki Meki</td>\n",
       "      <td>yes</td>\n",
       "      <td>2017</td>\n",
       "      <td>female</td>\n",
       "      <td>08</td>\n",
       "      <td>Fantagio</td>\n",
       "      <td>8</td>\n",
       "      <td>8</td>\n",
       "      <td>no</td>\n",
       "      <td>Yes</td>\n",
       "    </tr>\n",
       "    <tr>\n",
       "      <th>149</th>\n",
       "      <td>WJSN</td>\n",
       "      <td>yes</td>\n",
       "      <td>2016</td>\n",
       "      <td>female</td>\n",
       "      <td>02</td>\n",
       "      <td>Starship</td>\n",
       "      <td>13</td>\n",
       "      <td>12</td>\n",
       "      <td>yes</td>\n",
       "      <td>Yes</td>\n",
       "    </tr>\n",
       "    <tr>\n",
       "      <th>150</th>\n",
       "      <td>Wonder Girls</td>\n",
       "      <td>yes</td>\n",
       "      <td>2007</td>\n",
       "      <td>female</td>\n",
       "      <td>02</td>\n",
       "      <td>JYP</td>\n",
       "      <td>4</td>\n",
       "      <td>5</td>\n",
       "      <td>yes</td>\n",
       "      <td>No</td>\n",
       "    </tr>\n",
       "    <tr>\n",
       "      <th>151</th>\n",
       "      <td>Yellow Bee</td>\n",
       "      <td>no</td>\n",
       "      <td>2017</td>\n",
       "      <td>female</td>\n",
       "      <td>11</td>\n",
       "      <td>Addiction</td>\n",
       "      <td>5</td>\n",
       "      <td>5</td>\n",
       "      <td>no</td>\n",
       "      <td>Yes</td>\n",
       "    </tr>\n",
       "  </tbody>\n",
       "</table>\n",
       "<p>152 rows × 10 columns</p>\n",
       "</div>"
      ],
      "text/plain": [
       "             Name Short debut_year  gender debut_month    Company  Members  \\\n",
       "0        (G)I-DLE    no       2018  female          05       Cube        6   \n",
       "1             15&    no       2012  female          10        JYP        2   \n",
       "2           2EYES    no       2013  female          07    SidusHQ        4   \n",
       "3            2NE1    no       2009  female          05         YG        4   \n",
       "4             3YE    no       2019  female          05         GH        3   \n",
       "..            ...   ...        ...     ...         ...        ...      ...   \n",
       "147      We Girls    no       2018  female          08  Afternoon        8   \n",
       "148     Weki Meki   yes       2017  female          08   Fantagio        8   \n",
       "149          WJSN   yes       2016  female          02   Starship       13   \n",
       "150  Wonder Girls   yes       2007  female          02        JYP        4   \n",
       "151    Yellow Bee    no       2017  female          11  Addiction        5   \n",
       "\n",
       "     org_member have_fclub Active  \n",
       "0             6         no    Yes  \n",
       "1             2         no     No  \n",
       "2             5         no     No  \n",
       "3             4        yes     No  \n",
       "4             3         no    Yes  \n",
       "..          ...        ...    ...  \n",
       "147           8         no    Yes  \n",
       "148           8         no    Yes  \n",
       "149          12        yes    Yes  \n",
       "150           5        yes     No  \n",
       "151           5         no    Yes  \n",
       "\n",
       "[152 rows x 10 columns]"
      ]
     },
     "execution_count": 39,
     "metadata": {},
     "output_type": "execute_result"
    }
   ],
   "source": [
    "girl_groups = all_groups[all_groups[\"gender\"]==\"female\"]\n",
    "girl_groups"
   ]
  },
  {
   "cell_type": "code",
   "execution_count": 40,
   "id": "8cf93ac5",
   "metadata": {},
   "outputs": [
    {
     "data": {
      "text/plain": [
       "no     131\n",
       "yes     21\n",
       "Name: Short, dtype: int64"
      ]
     },
     "execution_count": 40,
     "metadata": {},
     "output_type": "execute_result"
    }
   ],
   "source": [
    "girl_groups.Short.value_counts()"
   ]
  },
  {
   "cell_type": "code",
   "execution_count": 41,
   "id": "2638f9bb",
   "metadata": {},
   "outputs": [
    {
     "data": {
      "text/plain": [
       "SM            5\n",
       "JYP           5\n",
       "Cube          3\n",
       "DSP           3\n",
       "Happy Face    3\n",
       "             ..\n",
       "Hunus         1\n",
       "iME           1\n",
       "Leek Mill     1\n",
       "D-SIDE        1\n",
       "Addiction     1\n",
       "Name: Company, Length: 120, dtype: int64"
      ]
     },
     "execution_count": 41,
     "metadata": {},
     "output_type": "execute_result"
    }
   ],
   "source": [
    "girl_groups.Company.value_counts()"
   ]
  },
  {
   "cell_type": "code",
   "execution_count": 42,
   "id": "127afaa7",
   "metadata": {},
   "outputs": [
    {
     "data": {
      "text/plain": [
       "4     40\n",
       "5     38\n",
       "6     20\n",
       "3     17\n",
       "7     13\n",
       "2      9\n",
       "8      7\n",
       "9      3\n",
       "10     2\n",
       "12     2\n",
       "13     1\n",
       "Name: Members, dtype: int64"
      ]
     },
     "execution_count": 42,
     "metadata": {},
     "output_type": "execute_result"
    }
   ],
   "source": [
    "girl_groups.Members.value_counts()"
   ]
  },
  {
   "cell_type": "code",
   "execution_count": 43,
   "id": "b9255fd6",
   "metadata": {},
   "outputs": [
    {
     "data": {
      "text/plain": [
       "5     43\n",
       "4     34\n",
       "6     21\n",
       "7     14\n",
       "3     11\n",
       "9      8\n",
       "8      8\n",
       "2      7\n",
       "10     3\n",
       "12     3\n",
       "Name: org_member, dtype: int64"
      ]
     },
     "execution_count": 43,
     "metadata": {},
     "output_type": "execute_result"
    }
   ],
   "source": [
    "girl_groups.org_member.value_counts()"
   ]
  },
  {
   "cell_type": "code",
   "execution_count": 44,
   "id": "3be7ccdb",
   "metadata": {},
   "outputs": [
    {
     "data": {
      "text/plain": [
       "no     106\n",
       "yes     46\n",
       "Name: have_fclub, dtype: int64"
      ]
     },
     "execution_count": 44,
     "metadata": {},
     "output_type": "execute_result"
    }
   ],
   "source": [
    "girl_groups.have_fclub.value_counts()"
   ]
  },
  {
   "cell_type": "code",
   "execution_count": 45,
   "id": "a802554c",
   "metadata": {},
   "outputs": [
    {
     "data": {
      "text/plain": [
       "0       no\n",
       "1       no\n",
       "2       no\n",
       "3      yes\n",
       "4       no\n",
       "      ... \n",
       "147     no\n",
       "148     no\n",
       "149    yes\n",
       "150    yes\n",
       "151     no\n",
       "Name: have_fclub, Length: 152, dtype: object"
      ]
     },
     "execution_count": 45,
     "metadata": {},
     "output_type": "execute_result"
    }
   ],
   "source": [
    "girl_groups.have_fclub"
   ]
  },
  {
   "cell_type": "code",
   "execution_count": 46,
   "id": "aeb44061",
   "metadata": {},
   "outputs": [
    {
     "data": {
      "text/plain": [
       "no     106\n",
       "yes     46\n",
       "Name: have_fclub, dtype: int64"
      ]
     },
     "execution_count": 46,
     "metadata": {},
     "output_type": "execute_result"
    }
   ],
   "source": [
    "girl_groups.have_fclub.value_counts()"
   ]
  },
  {
   "cell_type": "code",
   "execution_count": 47,
   "id": "91b80a57",
   "metadata": {},
   "outputs": [
    {
     "data": {
      "text/plain": [
       "debut_year\n",
       "1997     2\n",
       "2001     1\n",
       "2005     2\n",
       "2006     1\n",
       "2007     4\n",
       "2008     1\n",
       "2009     6\n",
       "2010     4\n",
       "2011    11\n",
       "2012    13\n",
       "2013     6\n",
       "2014    13\n",
       "2015    12\n",
       "2016    17\n",
       "2017    23\n",
       "2018    22\n",
       "2019    12\n",
       "2020     2\n",
       "Name: Name, dtype: int64"
      ]
     },
     "execution_count": 47,
     "metadata": {},
     "output_type": "execute_result"
    }
   ],
   "source": [
    "debut_years = girl_groups.groupby(\"debut_year\")[\"Name\"].count()\n",
    "debut_years"
   ]
  },
  {
   "cell_type": "code",
   "execution_count": 48,
   "id": "55e79bce",
   "metadata": {},
   "outputs": [
    {
     "data": {
      "text/plain": [
       "debut_month\n",
       "01    10\n",
       "02    14\n",
       "03    14\n",
       "04     8\n",
       "05    13\n",
       "06    10\n",
       "07    16\n",
       "08    28\n",
       "09     7\n",
       "10    16\n",
       "11    13\n",
       "12     3\n",
       "Name: Name, dtype: int64"
      ]
     },
     "execution_count": 48,
     "metadata": {},
     "output_type": "execute_result"
    }
   ],
   "source": [
    "debut_months = girl_groups.groupby(\"debut_month\")[\"Name\"].count()\n",
    "debut_months"
   ]
  },
  {
   "cell_type": "code",
   "execution_count": 49,
   "id": "0375e1e9",
   "metadata": {},
   "outputs": [
    {
     "data": {
      "image/png": "[encoded data removed]",
      "text/plain": [
       "<Figure size 432x288 with 1 Axes>"
      ]
     },
     "metadata": {
      "needs_background": "light"
     },
     "output_type": "display_data"
    }
   ],
   "source": [
    "sns.boxplot(x=\"Members\",y=girl_groups.Members.index,data =girl_groups);"
   ]
  },
  {
   "cell_type": "code",
   "execution_count": 50,
   "id": "d00d9f06",
   "metadata": {},
   "outputs": [
    {
     "data": {
      "text/plain": [
       "Yes       88\n",
       "No        59\n",
       "Hiatus     5\n",
       "Name: Active, dtype: int64"
      ]
     },
     "execution_count": 50,
     "metadata": {},
     "output_type": "execute_result"
    }
   ],
   "source": [
    "girl_groups.Active.value_counts()"
   ]
  },
  {
   "cell_type": "code",
   "execution_count": 51,
   "id": "5f1e8720",
   "metadata": {},
   "outputs": [
    {
     "data": {
      "image/png": "[encoded data removed]",
      "text/plain": [
       "<Figure size 432x288 with 1 Axes>"
      ]
     },
     "metadata": {
      "needs_background": "light"
     },
     "output_type": "display_data"
    }
   ],
   "source": [
    "girl_groups.Active.value_counts().plot.barh().set_title(\"Activeness\");"
   ]
  },
  {
   "cell_type": "code",
   "execution_count": 52,
   "id": "cc7b0b80",
   "metadata": {},
   "outputs": [
    {
     "data": {
      "image/png": "[encoded data removed]",
      "text/plain": [
       "<Figure size 432x288 with 1 Axes>"
      ]
     },
     "metadata": {
      "needs_background": "light"
     },
     "output_type": "display_data"
    }
   ],
   "source": [
    "girl_groups.Short.value_counts().plot.barh().set_title(\"Have Short Name?\");"
   ]
  },
  {
   "cell_type": "code",
   "execution_count": 53,
   "id": "7f74098b",
   "metadata": {},
   "outputs": [
    {
     "data": {
      "image/png": "[encoded data removed]",
      "text/plain": [
       "<Figure size 432x288 with 1 Axes>"
      ]
     },
     "metadata": {
      "needs_background": "light"
     },
     "output_type": "display_data"
    }
   ],
   "source": [
    "girl_groups.have_fclub.value_counts().plot.barh().set_title(\"Have Fan Club?\");"
   ]
  },
  {
   "cell_type": "code",
   "execution_count": 54,
   "id": "f2a641c3",
   "metadata": {},
   "outputs": [
    {
     "data": {
      "image/png": "[encoded data removed]",
      "text/plain": [
       "<Figure size 428x360 with 6 Axes>"
      ]
     },
     "metadata": {
      "needs_background": "light"
     },
     "output_type": "display_data"
    }
   ],
   "source": [
    "sns.pairplot(girl_groups, hue=\"Active\");"
   ]
  },
  {
   "cell_type": "code",
   "execution_count": 55,
   "id": "7bf54dfe",
   "metadata": {
    "scrolled": false
   },
   "outputs": [
    {
     "data": {
      "image/png": "[encoded data removed]",
      "text/plain": [
       "<Figure size 422.125x360 with 6 Axes>"
      ]
     },
     "metadata": {
      "needs_background": "light"
     },
     "output_type": "display_data"
    }
   ],
   "source": [
    "sns.pairplot(girl_groups, hue=\"have_fclub\");"
   ]
  },
  {
   "cell_type": "code",
   "execution_count": 56,
   "id": "1eaa4687",
   "metadata": {},
   "outputs": [
    {
     "data": {
      "image/png": "[encoded data removed]",
      "text/plain": [
       "<Figure size 432x288 with 2 Axes>"
      ]
     },
     "metadata": {
      "needs_background": "light"
     },
     "output_type": "display_data"
    }
   ],
   "source": [
    "girl_groups.hist();"
   ]
  },
  {
   "cell_type": "code",
   "execution_count": 57,
   "id": "fe5f83d4",
   "metadata": {},
   "outputs": [
    {
     "data": {
      "image/png": "[encoded data removed]",
      "text/plain": [
       "<Figure size 720x720 with 2 Axes>"
      ]
     },
     "metadata": {
      "needs_background": "light"
     },
     "output_type": "display_data"
    }
   ],
   "source": [
    "girl_groups.plot(subplots=True, figsize=(10, 10), sharex=False, sharey=False)\n",
    "plt.show()"
   ]
  },
  {
   "cell_type": "code",
   "execution_count": 58,
   "id": "8ca540a3",
   "metadata": {},
   "outputs": [
    {
     "data": {
      "text/plain": [
       "Text(0.5, 0.98, 'Debut Months')"
      ]
     },
     "execution_count": 58,
     "metadata": {},
     "output_type": "execute_result"
    },
    {
     "data": {
      "image/png": "[encoded data removed]",
      "text/plain": [
       "<Figure size 432x288 with 1 Axes>"
      ]
     },
     "metadata": {
      "needs_background": "light"
     },
     "output_type": "display_data"
    }
   ],
   "source": [
    "girl_groups.debut_month.hist(color=\"green\");\n",
    "suptitle(\"Debut Months\", size=20)"
   ]
  },
  {
   "cell_type": "code",
   "execution_count": 59,
   "id": "70c64aa5",
   "metadata": {},
   "outputs": [
    {
     "data": {
      "text/plain": [
       "Text(0.5, 0.98, 'Debut Years')"
      ]
     },
     "execution_count": 59,
     "metadata": {},
     "output_type": "execute_result"
    },
    {
     "data": {
      "image/png": "[encoded data removed]",
      "text/plain": [
       "<Figure size 720x360 with 1 Axes>"
      ]
     },
     "metadata": {
      "needs_background": "light"
     },
     "output_type": "display_data"
    }
   ],
   "source": [
    "girl_groups.debut_year.hist(figsize = (10,5), color=\"pink\");\n",
    "suptitle(\"Debut Years\", size=20)"
   ]
  },
  {
   "cell_type": "markdown",
   "id": "5c3b6315",
   "metadata": {},
   "source": [
    "## K-Pop Boy Groups"
   ]
  },
  {
   "cell_type": "code",
   "execution_count": 60,
   "id": "40f8e2e6",
   "metadata": {},
   "outputs": [
    {
     "data": {
      "text/html": [
       "<div>\n",
       "<style scoped>\n",
       "    .dataframe tbody tr th:only-of-type {\n",
       "        vertical-align: middle;\n",
       "    }\n",
       "\n",
       "    .dataframe tbody tr th {\n",
       "        vertical-align: top;\n",
       "    }\n",
       "\n",
       "    .dataframe thead th {\n",
       "        text-align: right;\n",
       "    }\n",
       "</style>\n",
       "<table border=\"1\" class=\"dataframe\">\n",
       "  <thead>\n",
       "    <tr style=\"text-align: right;\">\n",
       "      <th></th>\n",
       "      <th>Name</th>\n",
       "      <th>Short</th>\n",
       "      <th>debut_year</th>\n",
       "      <th>gender</th>\n",
       "      <th>debut_month</th>\n",
       "      <th>Company</th>\n",
       "      <th>Members</th>\n",
       "      <th>org_member</th>\n",
       "      <th>have_fclub</th>\n",
       "      <th>Active</th>\n",
       "    </tr>\n",
       "  </thead>\n",
       "  <tbody>\n",
       "    <tr>\n",
       "      <th>0</th>\n",
       "      <td>100%</td>\n",
       "      <td>no</td>\n",
       "      <td>2012</td>\n",
       "      <td>male</td>\n",
       "      <td>09</td>\n",
       "      <td>TOP Media</td>\n",
       "      <td>4</td>\n",
       "      <td>7</td>\n",
       "      <td>Perfection</td>\n",
       "      <td>Yes</td>\n",
       "    </tr>\n",
       "    <tr>\n",
       "      <th>1</th>\n",
       "      <td>14U</td>\n",
       "      <td>no</td>\n",
       "      <td>2017</td>\n",
       "      <td>male</td>\n",
       "      <td>04</td>\n",
       "      <td>BG</td>\n",
       "      <td>14</td>\n",
       "      <td>14</td>\n",
       "      <td>no</td>\n",
       "      <td>Yes</td>\n",
       "    </tr>\n",
       "    <tr>\n",
       "      <th>2</th>\n",
       "      <td>1the9</td>\n",
       "      <td>no</td>\n",
       "      <td>2019</td>\n",
       "      <td>male</td>\n",
       "      <td>02</td>\n",
       "      <td>MBK</td>\n",
       "      <td>9</td>\n",
       "      <td>9</td>\n",
       "      <td>no</td>\n",
       "      <td>Yes</td>\n",
       "    </tr>\n",
       "    <tr>\n",
       "      <th>3</th>\n",
       "      <td>24K</td>\n",
       "      <td>no</td>\n",
       "      <td>2012</td>\n",
       "      <td>male</td>\n",
       "      <td>09</td>\n",
       "      <td>Choeun</td>\n",
       "      <td>8</td>\n",
       "      <td>6</td>\n",
       "      <td>yes</td>\n",
       "      <td>Yes</td>\n",
       "    </tr>\n",
       "    <tr>\n",
       "      <th>4</th>\n",
       "      <td>2AM</td>\n",
       "      <td>no</td>\n",
       "      <td>2008</td>\n",
       "      <td>male</td>\n",
       "      <td>06</td>\n",
       "      <td>JYP, Big Hit</td>\n",
       "      <td>4</td>\n",
       "      <td>4</td>\n",
       "      <td>I Am</td>\n",
       "      <td>No</td>\n",
       "    </tr>\n",
       "    <tr>\n",
       "      <th>...</th>\n",
       "      <td>...</td>\n",
       "      <td>...</td>\n",
       "      <td>...</td>\n",
       "      <td>...</td>\n",
       "      <td>...</td>\n",
       "      <td>...</td>\n",
       "      <td>...</td>\n",
       "      <td>...</td>\n",
       "      <td>...</td>\n",
       "      <td>...</td>\n",
       "    </tr>\n",
       "    <tr>\n",
       "      <th>142</th>\n",
       "      <td>VROMANCE</td>\n",
       "      <td>no</td>\n",
       "      <td>2016</td>\n",
       "      <td>male</td>\n",
       "      <td>06</td>\n",
       "      <td>RBW</td>\n",
       "      <td>4</td>\n",
       "      <td>4</td>\n",
       "      <td>no</td>\n",
       "      <td>Yes</td>\n",
       "    </tr>\n",
       "    <tr>\n",
       "      <th>143</th>\n",
       "      <td>Wanna One</td>\n",
       "      <td>no</td>\n",
       "      <td>2017</td>\n",
       "      <td>male</td>\n",
       "      <td>08</td>\n",
       "      <td>YMC</td>\n",
       "      <td>11</td>\n",
       "      <td>11</td>\n",
       "      <td>Wannable</td>\n",
       "      <td>No</td>\n",
       "    </tr>\n",
       "    <tr>\n",
       "      <th>144</th>\n",
       "      <td>We In The Zone</td>\n",
       "      <td>no</td>\n",
       "      <td>2019</td>\n",
       "      <td>male</td>\n",
       "      <td>05</td>\n",
       "      <td>Choon</td>\n",
       "      <td>5</td>\n",
       "      <td>5</td>\n",
       "      <td>no</td>\n",
       "      <td>Yes</td>\n",
       "    </tr>\n",
       "    <tr>\n",
       "      <th>145</th>\n",
       "      <td>WINNER</td>\n",
       "      <td>no</td>\n",
       "      <td>2014</td>\n",
       "      <td>male</td>\n",
       "      <td>08</td>\n",
       "      <td>YG</td>\n",
       "      <td>4</td>\n",
       "      <td>5</td>\n",
       "      <td>yes</td>\n",
       "      <td>Yes</td>\n",
       "    </tr>\n",
       "    <tr>\n",
       "      <th>146</th>\n",
       "      <td>ZE:A</td>\n",
       "      <td>no</td>\n",
       "      <td>2010</td>\n",
       "      <td>male</td>\n",
       "      <td>01</td>\n",
       "      <td>Star Empire</td>\n",
       "      <td>9</td>\n",
       "      <td>9</td>\n",
       "      <td>ZE:A Style</td>\n",
       "      <td>Hiatus</td>\n",
       "    </tr>\n",
       "  </tbody>\n",
       "</table>\n",
       "<p>147 rows × 10 columns</p>\n",
       "</div>"
      ],
      "text/plain": [
       "               Name Short debut_year gender debut_month       Company  \\\n",
       "0              100%    no       2012   male          09     TOP Media   \n",
       "1               14U    no       2017   male          04            BG   \n",
       "2             1the9    no       2019   male          02           MBK   \n",
       "3               24K    no       2012   male          09        Choeun   \n",
       "4               2AM    no       2008   male          06  JYP, Big Hit   \n",
       "..              ...   ...        ...    ...         ...           ...   \n",
       "142        VROMANCE    no       2016   male          06           RBW   \n",
       "143       Wanna One    no       2017   male          08           YMC   \n",
       "144  We In The Zone    no       2019   male          05         Choon   \n",
       "145          WINNER    no       2014   male          08            YG   \n",
       "146            ZE:A    no       2010   male          01   Star Empire   \n",
       "\n",
       "     Members  org_member  have_fclub  Active  \n",
       "0          4           7  Perfection     Yes  \n",
       "1         14          14          no     Yes  \n",
       "2          9           9          no     Yes  \n",
       "3          8           6         yes     Yes  \n",
       "4          4           4        I Am      No  \n",
       "..       ...         ...         ...     ...  \n",
       "142        4           4          no     Yes  \n",
       "143       11          11    Wannable      No  \n",
       "144        5           5          no     Yes  \n",
       "145        4           5         yes     Yes  \n",
       "146        9           9  ZE:A Style  Hiatus  \n",
       "\n",
       "[147 rows x 10 columns]"
      ]
     },
     "execution_count": 60,
     "metadata": {},
     "output_type": "execute_result"
    }
   ],
   "source": [
    "boy_groups = all_groups[all_groups[\"gender\"]==\"male\"]\n",
    "boy_groups"
   ]
  },
  {
   "cell_type": "code",
   "execution_count": 61,
   "id": "44c175db",
   "metadata": {},
   "outputs": [
    {
     "data": {
      "text/plain": [
       "no                 113\n",
       "yes                 18\n",
       "TVXQ                 1\n",
       "Top Secret           1\n",
       "SJ                   1\n",
       "SKZ                  1\n",
       "SVT                  1\n",
       "SOC                  1\n",
       "6KIES                1\n",
       "MONT                 1\n",
       "Beast                1\n",
       "Hot Blood Youth      1\n",
       "Darkbee              1\n",
       "DMTN                 1\n",
       "Bangtan Boys         1\n",
       "BAP                  1\n",
       "ACE                  1\n",
       "VRVR                 1\n",
       "Name: Short, dtype: int64"
      ]
     },
     "execution_count": 61,
     "metadata": {},
     "output_type": "execute_result"
    }
   ],
   "source": [
    "boy_groups.Short.value_counts()"
   ]
  },
  {
   "cell_type": "code",
   "execution_count": 62,
   "id": "b8f8b763",
   "metadata": {},
   "outputs": [
    {
     "data": {
      "text/plain": [
       "SM              7\n",
       "FNC             5\n",
       "Big Hit         4\n",
       "JYP             4\n",
       "Starship        3\n",
       "               ..\n",
       "Histar          1\n",
       "Rainbow         1\n",
       "DNA             1\n",
       "JYP, SidusHQ    1\n",
       "Choon           1\n",
       "Name: Company, Length: 110, dtype: int64"
      ]
     },
     "execution_count": 62,
     "metadata": {},
     "output_type": "execute_result"
    }
   ],
   "source": [
    "boy_groups.Company.value_counts()"
   ]
  },
  {
   "cell_type": "code",
   "execution_count": 63,
   "id": "c247d940",
   "metadata": {},
   "outputs": [
    {
     "data": {
      "text/plain": [
       "5     38\n",
       "6     24\n",
       "4     23\n",
       "7     22\n",
       "9     12\n",
       "3      8\n",
       "2      7\n",
       "10     4\n",
       "8      2\n",
       "11     2\n",
       "12     2\n",
       "14     1\n",
       "18     1\n",
       "13     1\n",
       "Name: Members, dtype: int64"
      ]
     },
     "execution_count": 63,
     "metadata": {},
     "output_type": "execute_result"
    }
   ],
   "source": [
    "boy_groups.Members.value_counts()"
   ]
  },
  {
   "cell_type": "code",
   "execution_count": 64,
   "id": "c50ee518",
   "metadata": {},
   "outputs": [
    {
     "data": {
      "text/plain": [
       "5     39\n",
       "7     29\n",
       "6     27\n",
       "4     15\n",
       "9     11\n",
       "2      5\n",
       "3      4\n",
       "12     4\n",
       "10     4\n",
       "8      3\n",
       "11     2\n",
       "13     2\n",
       "14     1\n",
       "18     1\n",
       "Name: org_member, dtype: int64"
      ]
     },
     "execution_count": 64,
     "metadata": {},
     "output_type": "execute_result"
    }
   ],
   "source": [
    "boy_groups.org_member.value_counts()"
   ]
  },
  {
   "cell_type": "code",
   "execution_count": 65,
   "id": "84c9a7d3",
   "metadata": {},
   "outputs": [
    {
     "data": {
      "text/plain": [
       "no                 64\n",
       "yes                44\n",
       "Carat               1\n",
       "Tinker Bell         1\n",
       "A+                  1\n",
       "Monbebe             1\n",
       "MYgirl              1\n",
       "N.Fia               1\n",
       "NCTzen              1\n",
       "Rainzer             1\n",
       "Yellowkies          1\n",
       "Perfection          1\n",
       "Cassiopeia          1\n",
       "Shinhwa Changjo     1\n",
       "Swing               1\n",
       "Triple S            1\n",
       "ELF                 1\n",
       "ToppKlass           1\n",
       "Alice               1\n",
       "Wannable            1\n",
       "Shawol              1\n",
       "Club H.O.T          1\n",
       "Inspirit            1\n",
       "BBC                 1\n",
       "I Am                1\n",
       "Sweet Voice         1\n",
       "Choice              1\n",
       "ABNEW               1\n",
       "BABY                1\n",
       "BANA                1\n",
       "Prism               1\n",
       "Bestfriend          1\n",
       "Grace               1\n",
       "Melody              1\n",
       "Crown               1\n",
       "Boice               1\n",
       "EXO-L               1\n",
       "Primadonna          1\n",
       "Fan God             1\n",
       "I GOT7              1\n",
       "ZE:A Style          1\n",
       "Name: have_fclub, dtype: int64"
      ]
     },
     "execution_count": 65,
     "metadata": {},
     "output_type": "execute_result"
    }
   ],
   "source": [
    "boy_groups.have_fclub.value_counts()"
   ]
  },
  {
   "cell_type": "code",
   "execution_count": 66,
   "id": "c4930e72",
   "metadata": {},
   "outputs": [
    {
     "data": {
      "text/plain": [
       "0      Perfection\n",
       "1              no\n",
       "2              no\n",
       "3             yes\n",
       "4            I Am\n",
       "          ...    \n",
       "142            no\n",
       "143      Wannable\n",
       "144            no\n",
       "145           yes\n",
       "146    ZE:A Style\n",
       "Name: have_fclub, Length: 147, dtype: object"
      ]
     },
     "execution_count": 66,
     "metadata": {},
     "output_type": "execute_result"
    }
   ],
   "source": [
    "boy_groups.have_fclub"
   ]
  },
  {
   "cell_type": "code",
   "execution_count": 67,
   "id": "b985bfa4",
   "metadata": {},
   "outputs": [
    {
     "data": {
      "text/plain": [
       "no                 64\n",
       "yes                44\n",
       "Carat               1\n",
       "Tinker Bell         1\n",
       "A+                  1\n",
       "Monbebe             1\n",
       "MYgirl              1\n",
       "N.Fia               1\n",
       "NCTzen              1\n",
       "Rainzer             1\n",
       "Yellowkies          1\n",
       "Perfection          1\n",
       "Cassiopeia          1\n",
       "Shinhwa Changjo     1\n",
       "Swing               1\n",
       "Triple S            1\n",
       "ELF                 1\n",
       "ToppKlass           1\n",
       "Alice               1\n",
       "Wannable            1\n",
       "Shawol              1\n",
       "Club H.O.T          1\n",
       "Inspirit            1\n",
       "BBC                 1\n",
       "I Am                1\n",
       "Sweet Voice         1\n",
       "Choice              1\n",
       "ABNEW               1\n",
       "BABY                1\n",
       "BANA                1\n",
       "Prism               1\n",
       "Bestfriend          1\n",
       "Grace               1\n",
       "Melody              1\n",
       "Crown               1\n",
       "Boice               1\n",
       "EXO-L               1\n",
       "Primadonna          1\n",
       "Fan God             1\n",
       "I GOT7              1\n",
       "ZE:A Style          1\n",
       "Name: have_fclub, dtype: int64"
      ]
     },
     "execution_count": 67,
     "metadata": {},
     "output_type": "execute_result"
    }
   ],
   "source": [
    "boy_groups.have_fclub.value_counts()"
   ]
  },
  {
   "cell_type": "code",
   "execution_count": 68,
   "id": "dae1cd8f",
   "metadata": {},
   "outputs": [
    {
     "data": {
      "text/plain": [
       "debut_year\n",
       "1995     1\n",
       "1996     1\n",
       "1997     1\n",
       "1998     1\n",
       "1999     2\n",
       "2003     1\n",
       "2004     2\n",
       "2005     2\n",
       "2006     1\n",
       "2007     3\n",
       "2008     4\n",
       "2009     2\n",
       "2010     8\n",
       "2011     7\n",
       "2012    13\n",
       "2013     6\n",
       "2014    15\n",
       "2015    12\n",
       "2016    12\n",
       "2017    26\n",
       "2018    11\n",
       "2019    14\n",
       "2020     2\n",
       "Name: Name, dtype: int64"
      ]
     },
     "execution_count": 68,
     "metadata": {},
     "output_type": "execute_result"
    }
   ],
   "source": [
    "debut_years = boy_groups.groupby(\"debut_year\")[\"Name\"].count()\n",
    "debut_years"
   ]
  },
  {
   "cell_type": "code",
   "execution_count": 69,
   "id": "82f2f8c5",
   "metadata": {},
   "outputs": [
    {
     "data": {
      "text/plain": [
       "debut_month\n",
       "01    17\n",
       "02     4\n",
       "03    10\n",
       "04    15\n",
       "05    15\n",
       "06    11\n",
       "07    14\n",
       "08    13\n",
       "09    14\n",
       "10    20\n",
       "11    12\n",
       "12     2\n",
       "Name: Name, dtype: int64"
      ]
     },
     "execution_count": 69,
     "metadata": {},
     "output_type": "execute_result"
    }
   ],
   "source": [
    "debut_months = boy_groups.groupby(\"debut_month\")[\"Name\"].count()\n",
    "debut_months"
   ]
  },
  {
   "cell_type": "code",
   "execution_count": 70,
   "id": "9a4f9033",
   "metadata": {},
   "outputs": [
    {
     "data": {
      "image/png": "[encoded data removed]",
      "text/plain": [
       "<Figure size 432x288 with 1 Axes>"
      ]
     },
     "metadata": {
      "needs_background": "light"
     },
     "output_type": "display_data"
    }
   ],
   "source": [
    "sns.boxplot(x=\"Members\",y=boy_groups.Members.index,data =boy_groups);"
   ]
  },
  {
   "cell_type": "code",
   "execution_count": 71,
   "id": "8183dae5",
   "metadata": {},
   "outputs": [
    {
     "data": {
      "text/plain": [
       "Yes       110\n",
       "No         33\n",
       "Hiatus      4\n",
       "Name: Active, dtype: int64"
      ]
     },
     "execution_count": 71,
     "metadata": {},
     "output_type": "execute_result"
    }
   ],
   "source": [
    "boy_groups.Active.value_counts()"
   ]
  },
  {
   "cell_type": "code",
   "execution_count": 72,
   "id": "5c31b35c",
   "metadata": {},
   "outputs": [
    {
     "data": {
      "image/png": "[encoded data removed]",
      "text/plain": [
       "<Figure size 432x288 with 1 Axes>"
      ]
     },
     "metadata": {
      "needs_background": "light"
     },
     "output_type": "display_data"
    }
   ],
   "source": [
    "boy_groups.Active.value_counts().plot.barh().set_title(\"Activeness\");"
   ]
  },
  {
   "cell_type": "code",
   "execution_count": 73,
   "id": "031891b0",
   "metadata": {},
   "outputs": [
    {
     "data": {
      "image/png": "[encoded data removed]",
      "text/plain": [
       "<Figure size 432x288 with 1 Axes>"
      ]
     },
     "metadata": {
      "needs_background": "light"
     },
     "output_type": "display_data"
    }
   ],
   "source": [
    "boy_groups.Short.value_counts().plot.barh().set_title(\"Have Short Name?\");"
   ]
  },
  {
   "cell_type": "code",
   "execution_count": 74,
   "id": "ac8db6f1",
   "metadata": {},
   "outputs": [
    {
     "data": {
      "image/png": "[encoded data removed]",
      "text/plain": [
       "<Figure size 432x288 with 1 Axes>"
      ]
     },
     "metadata": {
      "needs_background": "light"
     },
     "output_type": "display_data"
    }
   ],
   "source": [
    "boy_groups.have_fclub.value_counts().plot.barh().set_title(\"Have Fan Club?\");"
   ]
  },
  {
   "cell_type": "code",
   "execution_count": 75,
   "id": "eeefa50f",
   "metadata": {},
   "outputs": [
    {
     "data": {
      "image/png": "[encoded data removed]",
      "text/plain": [
       "<Figure size 428x360 with 6 Axes>"
      ]
     },
     "metadata": {
      "needs_background": "light"
     },
     "output_type": "display_data"
    }
   ],
   "source": [
    "sns.pairplot(boy_groups, hue=\"Active\");"
   ]
  },
  {
   "cell_type": "code",
   "execution_count": 76,
   "id": "34844b5f",
   "metadata": {},
   "outputs": [
    {
     "data": {
      "image/png": "[encoded data removed]",
      "text/plain": [
       "<Figure size 482.625x360 with 6 Axes>"
      ]
     },
     "metadata": {
      "needs_background": "light"
     },
     "output_type": "display_data"
    }
   ],
   "source": [
    "sns.pairplot(boy_groups, hue=\"have_fclub\");"
   ]
  },
  {
   "cell_type": "code",
   "execution_count": 77,
   "id": "5286d168",
   "metadata": {},
   "outputs": [
    {
     "data": {
      "image/png": "[encoded data removed]",
      "text/plain": [
       "<Figure size 432x288 with 2 Axes>"
      ]
     },
     "metadata": {
      "needs_background": "light"
     },
     "output_type": "display_data"
    }
   ],
   "source": [
    "boy_groups.hist();"
   ]
  },
  {
   "cell_type": "code",
   "execution_count": 78,
   "id": "4c1b19c3",
   "metadata": {},
   "outputs": [
    {
     "data": {
      "image/png": "[encoded data removed]",
      "text/plain": [
       "<Figure size 720x720 with 2 Axes>"
      ]
     },
     "metadata": {
      "needs_background": "light"
     },
     "output_type": "display_data"
    }
   ],
   "source": [
    "boy_groups.plot(subplots=True, figsize=(10, 10), sharex=False, sharey=False)\n",
    "plt.show()"
   ]
  },
  {
   "cell_type": "code",
   "execution_count": 79,
   "id": "8df9f5a9",
   "metadata": {},
   "outputs": [
    {
     "data": {
      "text/plain": [
       "Text(0.5, 0.98, 'Debut Months')"
      ]
     },
     "execution_count": 79,
     "metadata": {},
     "output_type": "execute_result"
    },
    {
     "data": {
      "image/png": "[encoded data removed]",
      "text/plain": [
       "<Figure size 432x288 with 1 Axes>"
      ]
     },
     "metadata": {
      "needs_background": "light"
     },
     "output_type": "display_data"
    }
   ],
   "source": [
    "boy_groups.debut_month.hist(color=\"green\");\n",
    "suptitle(\"Debut Months\", size=20)"
   ]
  },
  {
   "cell_type": "code",
   "execution_count": 80,
   "id": "9d9223c5",
   "metadata": {},
   "outputs": [
    {
     "data": {
      "text/plain": [
       "Text(0.5, 0.98, 'Debut Years')"
      ]
     },
     "execution_count": 80,
     "metadata": {},
     "output_type": "execute_result"
    },
    {
     "data": {
      "image/png": "[encoded data removed]",
      "text/plain": [
       "<Figure size 1080x360 with 1 Axes>"
      ]
     },
     "metadata": {
      "needs_background": "light"
     },
     "output_type": "display_data"
    }
   ],
   "source": [
    "boy_groups.debut_year.hist(figsize = (15,5), color=\"pink\");\n",
    "suptitle(\"Debut Years\", size=20)"
   ]
  },
  {
   "cell_type": "code",
   "execution_count": null,
   "id": "72523f34",
   "metadata": {},
   "outputs": [],
   "source": []
  }
 ],
 "metadata": {
  "kernelspec": {
   "display_name": "Python 3 (ipykernel)",
   "language": "python",
   "name": "python3"
  },
  "language_info": {
   "codemirror_mode": {
    "name": "ipython",
    "version": 3
   },
   "file_extension": ".py",
   "mimetype": "text/x-python",
   "name": "python",
   "nbconvert_exporter": "python",
   "pygments_lexer": "ipython3",
   "version": "3.8.5"
  }
 },
 "nbformat": 4,
 "nbformat_minor": 5
}
